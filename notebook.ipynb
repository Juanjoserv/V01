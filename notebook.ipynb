{
 "cells": [
  {
   "cell_type": "code",
   "metadata": {
    "tags": [],
    "cell_id": "e56f96db-943a-4b0d-a1c6-842341d3a0bb",
    "deepnote_to_be_reexecuted": false,
    "source_hash": "dfe35b4b",
    "execution_start": 1648312490720,
    "execution_millis": 2853,
    "deepnote_cell_type": "code",
    "deepnote_cell_height": 99
   },
   "source": "import pandas as pd\nimport matplotlib.pyplot as plt",
   "outputs": [],
   "execution_count": null
  },
  {
   "cell_type": "markdown",
   "source": "### Data Frame",
   "metadata": {
    "cell_id": "ebb31807c4e04668ae46d5bd7859902c",
    "tags": [],
    "is_collapsed": false,
    "deepnote_cell_type": "text-cell-h3"
   }
  },
  {
   "cell_type": "code",
   "metadata": {
    "cell_id": "c42a81f539f341ffa1af9b8a50422ad3",
    "tags": [],
    "deepnote_to_be_reexecuted": false,
    "source_hash": "2d9a3c17",
    "execution_start": 1648312536904,
    "execution_millis": 2014,
    "deepnote_cell_type": "code",
    "deepnote_cell_height": 427.796875
   },
   "source": "df = pd.read_csv('/work/atus_anual_2019.csv')\ndf.head()",
   "outputs": [
    {
     "output_type": "execute_result",
     "execution_count": 4,
     "data": {
      "application/vnd.deepnote.dataframe.v3+json": {
       "column_count": 44,
       "row_count": 5,
       "columns": [
        {
         "name": "Entidad",
         "dtype": "object",
         "stats": {
          "unique_count": 1,
          "nan_count": 0,
          "categories": [
           {
            "name": "Aguascalientes",
            "count": 5
           }
          ]
         }
        },
        {
         "name": "Municipio ",
         "dtype": "object",
         "stats": {
          "unique_count": 1,
          "nan_count": 0,
          "categories": [
           {
            "name": "Aguascalientes",
            "count": 5
           }
          ]
         }
        },
        {
         "name": "ANIO",
         "dtype": "int64",
         "stats": {
          "unique_count": 1,
          "nan_count": 0,
          "min": "2019",
          "max": "2019",
          "histogram": [
           {
            "bin_start": 2018.5,
            "bin_end": 2018.6,
            "count": 0
           },
           {
            "bin_start": 2018.6,
            "bin_end": 2018.7,
            "count": 0
           },
           {
            "bin_start": 2018.7,
            "bin_end": 2018.8,
            "count": 0
           },
           {
            "bin_start": 2018.8,
            "bin_end": 2018.9,
            "count": 0
           },
           {
            "bin_start": 2018.9,
            "bin_end": 2019,
            "count": 0
           },
           {
            "bin_start": 2019,
            "bin_end": 2019.1,
            "count": 5
           },
           {
            "bin_start": 2019.1,
            "bin_end": 2019.2,
            "count": 0
           },
           {
            "bin_start": 2019.2,
            "bin_end": 2019.3,
            "count": 0
           },
           {
            "bin_start": 2019.3,
            "bin_end": 2019.4,
            "count": 0
           },
           {
            "bin_start": 2019.4,
            "bin_end": 2019.5,
            "count": 0
           }
          ]
         }
        },
        {
         "name": "MES",
         "dtype": "int64",
         "stats": {
          "unique_count": 1,
          "nan_count": 0,
          "min": "1",
          "max": "1",
          "histogram": [
           {
            "bin_start": 0.5,
            "bin_end": 0.6,
            "count": 0
           },
           {
            "bin_start": 0.6,
            "bin_end": 0.7,
            "count": 0
           },
           {
            "bin_start": 0.7,
            "bin_end": 0.8,
            "count": 0
           },
           {
            "bin_start": 0.8,
            "bin_end": 0.9,
            "count": 0
           },
           {
            "bin_start": 0.9,
            "bin_end": 1,
            "count": 0
           },
           {
            "bin_start": 1,
            "bin_end": 1.1,
            "count": 5
           },
           {
            "bin_start": 1.1,
            "bin_end": 1.2000000000000002,
            "count": 0
           },
           {
            "bin_start": 1.2000000000000002,
            "bin_end": 1.3,
            "count": 0
           },
           {
            "bin_start": 1.3,
            "bin_end": 1.4,
            "count": 0
           },
           {
            "bin_start": 1.4,
            "bin_end": 1.5,
            "count": 0
           }
          ]
         }
        },
        {
         "name": "Hora",
         "dtype": "int64",
         "stats": {
          "unique_count": 5,
          "nan_count": 0,
          "min": "1",
          "max": "8",
          "histogram": [
           {
            "bin_start": 1,
            "bin_end": 1.7,
            "count": 1
           },
           {
            "bin_start": 1.7,
            "bin_end": 2.4,
            "count": 0
           },
           {
            "bin_start": 2.4,
            "bin_end": 3.0999999999999996,
            "count": 1
           },
           {
            "bin_start": 3.0999999999999996,
            "bin_end": 3.8,
            "count": 0
           },
           {
            "bin_start": 3.8,
            "bin_end": 4.5,
            "count": 0
           },
           {
            "bin_start": 4.5,
            "bin_end": 5.199999999999999,
            "count": 1
           },
           {
            "bin_start": 5.199999999999999,
            "bin_end": 5.8999999999999995,
            "count": 0
           },
           {
            "bin_start": 5.8999999999999995,
            "bin_end": 6.6,
            "count": 1
           },
           {
            "bin_start": 6.6,
            "bin_end": 7.3,
            "count": 0
           },
           {
            "bin_start": 7.3,
            "bin_end": 8,
            "count": 1
           }
          ]
         }
        },
        {
         "name": "Minuto",
         "dtype": "int64",
         "stats": {
          "unique_count": 4,
          "nan_count": 0,
          "min": "5",
          "max": "53",
          "histogram": [
           {
            "bin_start": 5,
            "bin_end": 9.8,
            "count": 1
           },
           {
            "bin_start": 9.8,
            "bin_end": 14.6,
            "count": 0
           },
           {
            "bin_start": 14.6,
            "bin_end": 19.4,
            "count": 0
           },
           {
            "bin_start": 19.4,
            "bin_end": 24.2,
            "count": 0
           },
           {
            "bin_start": 24.2,
            "bin_end": 29,
            "count": 0
           },
           {
            "bin_start": 29,
            "bin_end": 33.8,
            "count": 0
           },
           {
            "bin_start": 33.8,
            "bin_end": 38.6,
            "count": 1
           },
           {
            "bin_start": 38.6,
            "bin_end": 43.4,
            "count": 0
           },
           {
            "bin_start": 43.4,
            "bin_end": 48.199999999999996,
            "count": 0
           },
           {
            "bin_start": 48.199999999999996,
            "bin_end": 53,
            "count": 3
           }
          ]
         }
        },
        {
         "name": "Día",
         "dtype": "int64",
         "stats": {
          "unique_count": 1,
          "nan_count": 0,
          "min": "1",
          "max": "1",
          "histogram": [
           {
            "bin_start": 0.5,
            "bin_end": 0.6,
            "count": 0
           },
           {
            "bin_start": 0.6,
            "bin_end": 0.7,
            "count": 0
           },
           {
            "bin_start": 0.7,
            "bin_end": 0.8,
            "count": 0
           },
           {
            "bin_start": 0.8,
            "bin_end": 0.9,
            "count": 0
           },
           {
            "bin_start": 0.9,
            "bin_end": 1,
            "count": 0
           },
           {
            "bin_start": 1,
            "bin_end": 1.1,
            "count": 5
           },
           {
            "bin_start": 1.1,
            "bin_end": 1.2000000000000002,
            "count": 0
           },
           {
            "bin_start": 1.2000000000000002,
            "bin_end": 1.3,
            "count": 0
           },
           {
            "bin_start": 1.3,
            "bin_end": 1.4,
            "count": 0
           },
           {
            "bin_start": 1.4,
            "bin_end": 1.5,
            "count": 0
           }
          ]
         }
        },
        {
         "name": "DIASEMANA",
         "dtype": "object",
         "stats": {
          "unique_count": 1,
          "nan_count": 0,
          "categories": [
           {
            "name": "Martes",
            "count": 5
           }
          ]
         }
        },
        {
         "name": "URBANA",
         "dtype": "object",
         "stats": {
          "unique_count": 1,
          "nan_count": 0,
          "categories": [
           {
            "name": "Accidente en intersección",
            "count": 5
           }
          ]
         }
        },
        {
         "name": "SUBURBANA",
         "dtype": "object",
         "stats": {
          "unique_count": 1,
          "nan_count": 0,
          "categories": [
           {
            "name": "Sin accidente en esta zona",
            "count": 5
           }
          ]
         }
        },
        {
         "name": "TIPACCID",
         "dtype": "object",
         "stats": {
          "unique_count": 2,
          "nan_count": 0,
          "categories": [
           {
            "name": "Colisión con vehículo automotor",
            "count": 3
           },
           {
            "name": "Colisión con objeto fijo",
            "count": 2
           }
          ]
         }
        },
        {
         "name": "AUTOMOVIL",
         "dtype": "int64",
         "stats": {
          "unique_count": 4,
          "nan_count": 0,
          "min": "0",
          "max": "4",
          "histogram": [
           {
            "bin_start": 0,
            "bin_end": 0.4,
            "count": 2
           },
           {
            "bin_start": 0.4,
            "bin_end": 0.8,
            "count": 0
           },
           {
            "bin_start": 0.8,
            "bin_end": 1.2000000000000002,
            "count": 1
           },
           {
            "bin_start": 1.2000000000000002,
            "bin_end": 1.6,
            "count": 0
           },
           {
            "bin_start": 1.6,
            "bin_end": 2,
            "count": 0
           },
           {
            "bin_start": 2,
            "bin_end": 2.4000000000000004,
            "count": 1
           },
           {
            "bin_start": 2.4000000000000004,
            "bin_end": 2.8000000000000003,
            "count": 0
           },
           {
            "bin_start": 2.8000000000000003,
            "bin_end": 3.2,
            "count": 0
           },
           {
            "bin_start": 3.2,
            "bin_end": 3.6,
            "count": 0
           },
           {
            "bin_start": 3.6,
            "bin_end": 4,
            "count": 1
           }
          ]
         }
        },
        {
         "name": "CAMPASAJ",
         "dtype": "int64",
         "stats": {
          "unique_count": 2,
          "nan_count": 0,
          "min": "0",
          "max": "1",
          "histogram": [
           {
            "bin_start": 0,
            "bin_end": 0.1,
            "count": 2
           },
           {
            "bin_start": 0.1,
            "bin_end": 0.2,
            "count": 0
           },
           {
            "bin_start": 0.2,
            "bin_end": 0.30000000000000004,
            "count": 0
           },
           {
            "bin_start": 0.30000000000000004,
            "bin_end": 0.4,
            "count": 0
           },
           {
            "bin_start": 0.4,
            "bin_end": 0.5,
            "count": 0
           },
           {
            "bin_start": 0.5,
            "bin_end": 0.6000000000000001,
            "count": 0
           },
           {
            "bin_start": 0.6000000000000001,
            "bin_end": 0.7000000000000001,
            "count": 0
           },
           {
            "bin_start": 0.7000000000000001,
            "bin_end": 0.8,
            "count": 0
           },
           {
            "bin_start": 0.8,
            "bin_end": 0.9,
            "count": 0
           },
           {
            "bin_start": 0.9,
            "bin_end": 1,
            "count": 3
           }
          ]
         }
        },
        {
         "name": "MICROBUS",
         "dtype": "int64",
         "stats": {
          "unique_count": 1,
          "nan_count": 0,
          "min": "0",
          "max": "0",
          "histogram": [
           {
            "bin_start": -0.5,
            "bin_end": -0.4,
            "count": 0
           },
           {
            "bin_start": -0.4,
            "bin_end": -0.3,
            "count": 0
           },
           {
            "bin_start": -0.3,
            "bin_end": -0.19999999999999996,
            "count": 0
           },
           {
            "bin_start": -0.19999999999999996,
            "bin_end": -0.09999999999999998,
            "count": 0
           },
           {
            "bin_start": -0.09999999999999998,
            "bin_end": 0,
            "count": 0
           },
           {
            "bin_start": 0,
            "bin_end": 0.10000000000000009,
            "count": 5
           },
           {
            "bin_start": 0.10000000000000009,
            "bin_end": 0.20000000000000007,
            "count": 0
           },
           {
            "bin_start": 0.20000000000000007,
            "bin_end": 0.30000000000000004,
            "count": 0
           },
           {
            "bin_start": 0.30000000000000004,
            "bin_end": 0.4,
            "count": 0
           },
           {
            "bin_start": 0.4,
            "bin_end": 0.5,
            "count": 0
           }
          ]
         }
        },
        {
         "name": "PASCAMION",
         "dtype": "int64",
         "stats": {
          "unique_count": 1,
          "nan_count": 0,
          "min": "0",
          "max": "0",
          "histogram": [
           {
            "bin_start": -0.5,
            "bin_end": -0.4,
            "count": 0
           },
           {
            "bin_start": -0.4,
            "bin_end": -0.3,
            "count": 0
           },
           {
            "bin_start": -0.3,
            "bin_end": -0.19999999999999996,
            "count": 0
           },
           {
            "bin_start": -0.19999999999999996,
            "bin_end": -0.09999999999999998,
            "count": 0
           },
           {
            "bin_start": -0.09999999999999998,
            "bin_end": 0,
            "count": 0
           },
           {
            "bin_start": 0,
            "bin_end": 0.10000000000000009,
            "count": 5
           },
           {
            "bin_start": 0.10000000000000009,
            "bin_end": 0.20000000000000007,
            "count": 0
           },
           {
            "bin_start": 0.20000000000000007,
            "bin_end": 0.30000000000000004,
            "count": 0
           },
           {
            "bin_start": 0.30000000000000004,
            "bin_end": 0.4,
            "count": 0
           },
           {
            "bin_start": 0.4,
            "bin_end": 0.5,
            "count": 0
           }
          ]
         }
        },
        {
         "name": "OMNIBUS",
         "dtype": "int64",
         "stats": {
          "unique_count": 1,
          "nan_count": 0,
          "min": "0",
          "max": "0",
          "histogram": [
           {
            "bin_start": -0.5,
            "bin_end": -0.4,
            "count": 0
           },
           {
            "bin_start": -0.4,
            "bin_end": -0.3,
            "count": 0
           },
           {
            "bin_start": -0.3,
            "bin_end": -0.19999999999999996,
            "count": 0
           },
           {
            "bin_start": -0.19999999999999996,
            "bin_end": -0.09999999999999998,
            "count": 0
           },
           {
            "bin_start": -0.09999999999999998,
            "bin_end": 0,
            "count": 0
           },
           {
            "bin_start": 0,
            "bin_end": 0.10000000000000009,
            "count": 5
           },
           {
            "bin_start": 0.10000000000000009,
            "bin_end": 0.20000000000000007,
            "count": 0
           },
           {
            "bin_start": 0.20000000000000007,
            "bin_end": 0.30000000000000004,
            "count": 0
           },
           {
            "bin_start": 0.30000000000000004,
            "bin_end": 0.4,
            "count": 0
           },
           {
            "bin_start": 0.4,
            "bin_end": 0.5,
            "count": 0
           }
          ]
         }
        },
        {
         "name": "TRANVIA",
         "dtype": "int64",
         "stats": {
          "unique_count": 1,
          "nan_count": 0,
          "min": "0",
          "max": "0",
          "histogram": [
           {
            "bin_start": -0.5,
            "bin_end": -0.4,
            "count": 0
           },
           {
            "bin_start": -0.4,
            "bin_end": -0.3,
            "count": 0
           },
           {
            "bin_start": -0.3,
            "bin_end": -0.19999999999999996,
            "count": 0
           },
           {
            "bin_start": -0.19999999999999996,
            "bin_end": -0.09999999999999998,
            "count": 0
           },
           {
            "bin_start": -0.09999999999999998,
            "bin_end": 0,
            "count": 0
           },
           {
            "bin_start": 0,
            "bin_end": 0.10000000000000009,
            "count": 5
           },
           {
            "bin_start": 0.10000000000000009,
            "bin_end": 0.20000000000000007,
            "count": 0
           },
           {
            "bin_start": 0.20000000000000007,
            "bin_end": 0.30000000000000004,
            "count": 0
           },
           {
            "bin_start": 0.30000000000000004,
            "bin_end": 0.4,
            "count": 0
           },
           {
            "bin_start": 0.4,
            "bin_end": 0.5,
            "count": 0
           }
          ]
         }
        },
        {
         "name": "CAMIONETA",
         "dtype": "int64",
         "stats": {
          "unique_count": 2,
          "nan_count": 0,
          "min": "0",
          "max": "1",
          "histogram": [
           {
            "bin_start": 0,
            "bin_end": 0.1,
            "count": 4
           },
           {
            "bin_start": 0.1,
            "bin_end": 0.2,
            "count": 0
           },
           {
            "bin_start": 0.2,
            "bin_end": 0.30000000000000004,
            "count": 0
           },
           {
            "bin_start": 0.30000000000000004,
            "bin_end": 0.4,
            "count": 0
           },
           {
            "bin_start": 0.4,
            "bin_end": 0.5,
            "count": 0
           },
           {
            "bin_start": 0.5,
            "bin_end": 0.6000000000000001,
            "count": 0
           },
           {
            "bin_start": 0.6000000000000001,
            "bin_end": 0.7000000000000001,
            "count": 0
           },
           {
            "bin_start": 0.7000000000000001,
            "bin_end": 0.8,
            "count": 0
           },
           {
            "bin_start": 0.8,
            "bin_end": 0.9,
            "count": 0
           },
           {
            "bin_start": 0.9,
            "bin_end": 1,
            "count": 1
           }
          ]
         }
        },
        {
         "name": "CAMION",
         "dtype": "int64",
         "stats": {
          "unique_count": 1,
          "nan_count": 0,
          "min": "0",
          "max": "0",
          "histogram": [
           {
            "bin_start": -0.5,
            "bin_end": -0.4,
            "count": 0
           },
           {
            "bin_start": -0.4,
            "bin_end": -0.3,
            "count": 0
           },
           {
            "bin_start": -0.3,
            "bin_end": -0.19999999999999996,
            "count": 0
           },
           {
            "bin_start": -0.19999999999999996,
            "bin_end": -0.09999999999999998,
            "count": 0
           },
           {
            "bin_start": -0.09999999999999998,
            "bin_end": 0,
            "count": 0
           },
           {
            "bin_start": 0,
            "bin_end": 0.10000000000000009,
            "count": 5
           },
           {
            "bin_start": 0.10000000000000009,
            "bin_end": 0.20000000000000007,
            "count": 0
           },
           {
            "bin_start": 0.20000000000000007,
            "bin_end": 0.30000000000000004,
            "count": 0
           },
           {
            "bin_start": 0.30000000000000004,
            "bin_end": 0.4,
            "count": 0
           },
           {
            "bin_start": 0.4,
            "bin_end": 0.5,
            "count": 0
           }
          ]
         }
        },
        {
         "name": "TRACTOR",
         "dtype": "int64",
         "stats": {
          "unique_count": 1,
          "nan_count": 0,
          "min": "0",
          "max": "0",
          "histogram": [
           {
            "bin_start": -0.5,
            "bin_end": -0.4,
            "count": 0
           },
           {
            "bin_start": -0.4,
            "bin_end": -0.3,
            "count": 0
           },
           {
            "bin_start": -0.3,
            "bin_end": -0.19999999999999996,
            "count": 0
           },
           {
            "bin_start": -0.19999999999999996,
            "bin_end": -0.09999999999999998,
            "count": 0
           },
           {
            "bin_start": -0.09999999999999998,
            "bin_end": 0,
            "count": 0
           },
           {
            "bin_start": 0,
            "bin_end": 0.10000000000000009,
            "count": 5
           },
           {
            "bin_start": 0.10000000000000009,
            "bin_end": 0.20000000000000007,
            "count": 0
           },
           {
            "bin_start": 0.20000000000000007,
            "bin_end": 0.30000000000000004,
            "count": 0
           },
           {
            "bin_start": 0.30000000000000004,
            "bin_end": 0.4,
            "count": 0
           },
           {
            "bin_start": 0.4,
            "bin_end": 0.5,
            "count": 0
           }
          ]
         }
        },
        {
         "name": "FERROCARRI",
         "dtype": "int64",
         "stats": {
          "unique_count": 1,
          "nan_count": 0,
          "min": "0",
          "max": "0",
          "histogram": [
           {
            "bin_start": -0.5,
            "bin_end": -0.4,
            "count": 0
           },
           {
            "bin_start": -0.4,
            "bin_end": -0.3,
            "count": 0
           },
           {
            "bin_start": -0.3,
            "bin_end": -0.19999999999999996,
            "count": 0
           },
           {
            "bin_start": -0.19999999999999996,
            "bin_end": -0.09999999999999998,
            "count": 0
           },
           {
            "bin_start": -0.09999999999999998,
            "bin_end": 0,
            "count": 0
           },
           {
            "bin_start": 0,
            "bin_end": 0.10000000000000009,
            "count": 5
           },
           {
            "bin_start": 0.10000000000000009,
            "bin_end": 0.20000000000000007,
            "count": 0
           },
           {
            "bin_start": 0.20000000000000007,
            "bin_end": 0.30000000000000004,
            "count": 0
           },
           {
            "bin_start": 0.30000000000000004,
            "bin_end": 0.4,
            "count": 0
           },
           {
            "bin_start": 0.4,
            "bin_end": 0.5,
            "count": 0
           }
          ]
         }
        },
        {
         "name": "MOTOCICLET",
         "dtype": "int64",
         "stats": {
          "unique_count": 1,
          "nan_count": 0,
          "min": "0",
          "max": "0",
          "histogram": [
           {
            "bin_start": -0.5,
            "bin_end": -0.4,
            "count": 0
           },
           {
            "bin_start": -0.4,
            "bin_end": -0.3,
            "count": 0
           },
           {
            "bin_start": -0.3,
            "bin_end": -0.19999999999999996,
            "count": 0
           },
           {
            "bin_start": -0.19999999999999996,
            "bin_end": -0.09999999999999998,
            "count": 0
           },
           {
            "bin_start": -0.09999999999999998,
            "bin_end": 0,
            "count": 0
           },
           {
            "bin_start": 0,
            "bin_end": 0.10000000000000009,
            "count": 5
           },
           {
            "bin_start": 0.10000000000000009,
            "bin_end": 0.20000000000000007,
            "count": 0
           },
           {
            "bin_start": 0.20000000000000007,
            "bin_end": 0.30000000000000004,
            "count": 0
           },
           {
            "bin_start": 0.30000000000000004,
            "bin_end": 0.4,
            "count": 0
           },
           {
            "bin_start": 0.4,
            "bin_end": 0.5,
            "count": 0
           }
          ]
         }
        },
        {
         "name": "BICICLETA",
         "dtype": "int64",
         "stats": {
          "unique_count": 1,
          "nan_count": 0,
          "min": "0",
          "max": "0",
          "histogram": [
           {
            "bin_start": -0.5,
            "bin_end": -0.4,
            "count": 0
           },
           {
            "bin_start": -0.4,
            "bin_end": -0.3,
            "count": 0
           },
           {
            "bin_start": -0.3,
            "bin_end": -0.19999999999999996,
            "count": 0
           },
           {
            "bin_start": -0.19999999999999996,
            "bin_end": -0.09999999999999998,
            "count": 0
           },
           {
            "bin_start": -0.09999999999999998,
            "bin_end": 0,
            "count": 0
           },
           {
            "bin_start": 0,
            "bin_end": 0.10000000000000009,
            "count": 5
           },
           {
            "bin_start": 0.10000000000000009,
            "bin_end": 0.20000000000000007,
            "count": 0
           },
           {
            "bin_start": 0.20000000000000007,
            "bin_end": 0.30000000000000004,
            "count": 0
           },
           {
            "bin_start": 0.30000000000000004,
            "bin_end": 0.4,
            "count": 0
           },
           {
            "bin_start": 0.4,
            "bin_end": 0.5,
            "count": 0
           }
          ]
         }
        },
        {
         "name": "OTROVEHIC",
         "dtype": "int64",
         "stats": {
          "unique_count": 1,
          "nan_count": 0,
          "min": "0",
          "max": "0",
          "histogram": [
           {
            "bin_start": -0.5,
            "bin_end": -0.4,
            "count": 0
           },
           {
            "bin_start": -0.4,
            "bin_end": -0.3,
            "count": 0
           },
           {
            "bin_start": -0.3,
            "bin_end": -0.19999999999999996,
            "count": 0
           },
           {
            "bin_start": -0.19999999999999996,
            "bin_end": -0.09999999999999998,
            "count": 0
           },
           {
            "bin_start": -0.09999999999999998,
            "bin_end": 0,
            "count": 0
           },
           {
            "bin_start": 0,
            "bin_end": 0.10000000000000009,
            "count": 5
           },
           {
            "bin_start": 0.10000000000000009,
            "bin_end": 0.20000000000000007,
            "count": 0
           },
           {
            "bin_start": 0.20000000000000007,
            "bin_end": 0.30000000000000004,
            "count": 0
           },
           {
            "bin_start": 0.30000000000000004,
            "bin_end": 0.4,
            "count": 0
           },
           {
            "bin_start": 0.4,
            "bin_end": 0.5,
            "count": 0
           }
          ]
         }
        },
        {
         "name": "CAUSAACCI",
         "dtype": "object",
         "stats": {
          "unique_count": 1,
          "nan_count": 0,
          "categories": [
           {
            "name": "Conductor",
            "count": 5
           }
          ]
         }
        },
        {
         "name": "CAPAROD",
         "dtype": "object",
         "stats": {
          "unique_count": 1,
          "nan_count": 0,
          "categories": [
           {
            "name": "Pavimentada",
            "count": 5
           }
          ]
         }
        },
        {
         "name": "SEXO",
         "dtype": "object",
         "stats": {
          "unique_count": 2,
          "nan_count": 0,
          "categories": [
           {
            "name": "Hombre",
            "count": 4
           },
           {
            "name": "Mujer",
            "count": 1
           }
          ]
         }
        },
        {
         "name": "ALIENTO",
         "dtype": "object",
         "stats": {
          "unique_count": 2,
          "nan_count": 0,
          "categories": [
           {
            "name": "No",
            "count": 4
           },
           {
            "name": "Sí",
            "count": 1
           }
          ]
         }
        },
        {
         "name": "CINTURON",
         "dtype": "object",
         "stats": {
          "unique_count": 1,
          "nan_count": 0,
          "categories": [
           {
            "name": "Se ignora",
            "count": 5
           }
          ]
         }
        },
        {
         "name": "edad",
         "dtype": "int64",
         "stats": {
          "unique_count": 4,
          "nan_count": 0,
          "min": "20",
          "max": "35",
          "histogram": [
           {
            "bin_start": 20,
            "bin_end": 21.5,
            "count": 1
           },
           {
            "bin_start": 21.5,
            "bin_end": 23,
            "count": 2
           },
           {
            "bin_start": 23,
            "bin_end": 24.5,
            "count": 0
           },
           {
            "bin_start": 24.5,
            "bin_end": 26,
            "count": 0
           },
           {
            "bin_start": 26,
            "bin_end": 27.5,
            "count": 0
           },
           {
            "bin_start": 27.5,
            "bin_end": 29,
            "count": 1
           },
           {
            "bin_start": 29,
            "bin_end": 30.5,
            "count": 0
           },
           {
            "bin_start": 30.5,
            "bin_end": 32,
            "count": 0
           },
           {
            "bin_start": 32,
            "bin_end": 33.5,
            "count": 0
           },
           {
            "bin_start": 33.5,
            "bin_end": 35,
            "count": 1
           }
          ]
         }
        },
        {
         "name": "CONDMUERTO",
         "dtype": "int64",
         "stats": {
          "unique_count": 1,
          "nan_count": 0,
          "min": "0",
          "max": "0",
          "histogram": [
           {
            "bin_start": -0.5,
            "bin_end": -0.4,
            "count": 0
           },
           {
            "bin_start": -0.4,
            "bin_end": -0.3,
            "count": 0
           },
           {
            "bin_start": -0.3,
            "bin_end": -0.19999999999999996,
            "count": 0
           },
           {
            "bin_start": -0.19999999999999996,
            "bin_end": -0.09999999999999998,
            "count": 0
           },
           {
            "bin_start": -0.09999999999999998,
            "bin_end": 0,
            "count": 0
           },
           {
            "bin_start": 0,
            "bin_end": 0.10000000000000009,
            "count": 5
           },
           {
            "bin_start": 0.10000000000000009,
            "bin_end": 0.20000000000000007,
            "count": 0
           },
           {
            "bin_start": 0.20000000000000007,
            "bin_end": 0.30000000000000004,
            "count": 0
           },
           {
            "bin_start": 0.30000000000000004,
            "bin_end": 0.4,
            "count": 0
           },
           {
            "bin_start": 0.4,
            "bin_end": 0.5,
            "count": 0
           }
          ]
         }
        },
        {
         "name": "CONDHERIDO",
         "dtype": "int64",
         "stats": {
          "unique_count": 2,
          "nan_count": 0,
          "min": "0",
          "max": "1",
          "histogram": [
           {
            "bin_start": 0,
            "bin_end": 0.1,
            "count": 4
           },
           {
            "bin_start": 0.1,
            "bin_end": 0.2,
            "count": 0
           },
           {
            "bin_start": 0.2,
            "bin_end": 0.30000000000000004,
            "count": 0
           },
           {
            "bin_start": 0.30000000000000004,
            "bin_end": 0.4,
            "count": 0
           },
           {
            "bin_start": 0.4,
            "bin_end": 0.5,
            "count": 0
           },
           {
            "bin_start": 0.5,
            "bin_end": 0.6000000000000001,
            "count": 0
           },
           {
            "bin_start": 0.6000000000000001,
            "bin_end": 0.7000000000000001,
            "count": 0
           },
           {
            "bin_start": 0.7000000000000001,
            "bin_end": 0.8,
            "count": 0
           },
           {
            "bin_start": 0.8,
            "bin_end": 0.9,
            "count": 0
           },
           {
            "bin_start": 0.9,
            "bin_end": 1,
            "count": 1
           }
          ]
         }
        },
        {
         "name": "PASAMUERTO",
         "dtype": "int64",
         "stats": {
          "unique_count": 1,
          "nan_count": 0,
          "min": "0",
          "max": "0",
          "histogram": [
           {
            "bin_start": -0.5,
            "bin_end": -0.4,
            "count": 0
           },
           {
            "bin_start": -0.4,
            "bin_end": -0.3,
            "count": 0
           },
           {
            "bin_start": -0.3,
            "bin_end": -0.19999999999999996,
            "count": 0
           },
           {
            "bin_start": -0.19999999999999996,
            "bin_end": -0.09999999999999998,
            "count": 0
           },
           {
            "bin_start": -0.09999999999999998,
            "bin_end": 0,
            "count": 0
           },
           {
            "bin_start": 0,
            "bin_end": 0.10000000000000009,
            "count": 5
           },
           {
            "bin_start": 0.10000000000000009,
            "bin_end": 0.20000000000000007,
            "count": 0
           },
           {
            "bin_start": 0.20000000000000007,
            "bin_end": 0.30000000000000004,
            "count": 0
           },
           {
            "bin_start": 0.30000000000000004,
            "bin_end": 0.4,
            "count": 0
           },
           {
            "bin_start": 0.4,
            "bin_end": 0.5,
            "count": 0
           }
          ]
         }
        },
        {
         "name": "PASAHERIDO",
         "dtype": "int64",
         "stats": {
          "unique_count": 2,
          "nan_count": 0,
          "min": "0",
          "max": "2",
          "histogram": [
           {
            "bin_start": 0,
            "bin_end": 0.2,
            "count": 4
           },
           {
            "bin_start": 0.2,
            "bin_end": 0.4,
            "count": 0
           },
           {
            "bin_start": 0.4,
            "bin_end": 0.6000000000000001,
            "count": 0
           },
           {
            "bin_start": 0.6000000000000001,
            "bin_end": 0.8,
            "count": 0
           },
           {
            "bin_start": 0.8,
            "bin_end": 1,
            "count": 0
           },
           {
            "bin_start": 1,
            "bin_end": 1.2000000000000002,
            "count": 0
           },
           {
            "bin_start": 1.2000000000000002,
            "bin_end": 1.4000000000000001,
            "count": 0
           },
           {
            "bin_start": 1.4000000000000001,
            "bin_end": 1.6,
            "count": 0
           },
           {
            "bin_start": 1.6,
            "bin_end": 1.8,
            "count": 0
           },
           {
            "bin_start": 1.8,
            "bin_end": 2,
            "count": 1
           }
          ]
         }
        },
        {
         "name": "PEATMUERTO",
         "dtype": "int64",
         "stats": {
          "unique_count": 1,
          "nan_count": 0,
          "min": "0",
          "max": "0",
          "histogram": [
           {
            "bin_start": -0.5,
            "bin_end": -0.4,
            "count": 0
           },
           {
            "bin_start": -0.4,
            "bin_end": -0.3,
            "count": 0
           },
           {
            "bin_start": -0.3,
            "bin_end": -0.19999999999999996,
            "count": 0
           },
           {
            "bin_start": -0.19999999999999996,
            "bin_end": -0.09999999999999998,
            "count": 0
           },
           {
            "bin_start": -0.09999999999999998,
            "bin_end": 0,
            "count": 0
           },
           {
            "bin_start": 0,
            "bin_end": 0.10000000000000009,
            "count": 5
           },
           {
            "bin_start": 0.10000000000000009,
            "bin_end": 0.20000000000000007,
            "count": 0
           },
           {
            "bin_start": 0.20000000000000007,
            "bin_end": 0.30000000000000004,
            "count": 0
           },
           {
            "bin_start": 0.30000000000000004,
            "bin_end": 0.4,
            "count": 0
           },
           {
            "bin_start": 0.4,
            "bin_end": 0.5,
            "count": 0
           }
          ]
         }
        },
        {
         "name": "PEATHERIDO",
         "dtype": "int64",
         "stats": {
          "unique_count": 1,
          "nan_count": 0,
          "min": "0",
          "max": "0",
          "histogram": [
           {
            "bin_start": -0.5,
            "bin_end": -0.4,
            "count": 0
           },
           {
            "bin_start": -0.4,
            "bin_end": -0.3,
            "count": 0
           },
           {
            "bin_start": -0.3,
            "bin_end": -0.19999999999999996,
            "count": 0
           },
           {
            "bin_start": -0.19999999999999996,
            "bin_end": -0.09999999999999998,
            "count": 0
           },
           {
            "bin_start": -0.09999999999999998,
            "bin_end": 0,
            "count": 0
           },
           {
            "bin_start": 0,
            "bin_end": 0.10000000000000009,
            "count": 5
           },
           {
            "bin_start": 0.10000000000000009,
            "bin_end": 0.20000000000000007,
            "count": 0
           },
           {
            "bin_start": 0.20000000000000007,
            "bin_end": 0.30000000000000004,
            "count": 0
           },
           {
            "bin_start": 0.30000000000000004,
            "bin_end": 0.4,
            "count": 0
           },
           {
            "bin_start": 0.4,
            "bin_end": 0.5,
            "count": 0
           }
          ]
         }
        },
        {
         "name": "CICLMUERTO",
         "dtype": "int64",
         "stats": {
          "unique_count": 1,
          "nan_count": 0,
          "min": "0",
          "max": "0",
          "histogram": [
           {
            "bin_start": -0.5,
            "bin_end": -0.4,
            "count": 0
           },
           {
            "bin_start": -0.4,
            "bin_end": -0.3,
            "count": 0
           },
           {
            "bin_start": -0.3,
            "bin_end": -0.19999999999999996,
            "count": 0
           },
           {
            "bin_start": -0.19999999999999996,
            "bin_end": -0.09999999999999998,
            "count": 0
           },
           {
            "bin_start": -0.09999999999999998,
            "bin_end": 0,
            "count": 0
           },
           {
            "bin_start": 0,
            "bin_end": 0.10000000000000009,
            "count": 5
           },
           {
            "bin_start": 0.10000000000000009,
            "bin_end": 0.20000000000000007,
            "count": 0
           },
           {
            "bin_start": 0.20000000000000007,
            "bin_end": 0.30000000000000004,
            "count": 0
           },
           {
            "bin_start": 0.30000000000000004,
            "bin_end": 0.4,
            "count": 0
           },
           {
            "bin_start": 0.4,
            "bin_end": 0.5,
            "count": 0
           }
          ]
         }
        },
        {
         "name": "CICLHERIDO",
         "dtype": "int64",
         "stats": {
          "unique_count": 1,
          "nan_count": 0,
          "min": "0",
          "max": "0",
          "histogram": [
           {
            "bin_start": -0.5,
            "bin_end": -0.4,
            "count": 0
           },
           {
            "bin_start": -0.4,
            "bin_end": -0.3,
            "count": 0
           },
           {
            "bin_start": -0.3,
            "bin_end": -0.19999999999999996,
            "count": 0
           },
           {
            "bin_start": -0.19999999999999996,
            "bin_end": -0.09999999999999998,
            "count": 0
           },
           {
            "bin_start": -0.09999999999999998,
            "bin_end": 0,
            "count": 0
           },
           {
            "bin_start": 0,
            "bin_end": 0.10000000000000009,
            "count": 5
           },
           {
            "bin_start": 0.10000000000000009,
            "bin_end": 0.20000000000000007,
            "count": 0
           },
           {
            "bin_start": 0.20000000000000007,
            "bin_end": 0.30000000000000004,
            "count": 0
           },
           {
            "bin_start": 0.30000000000000004,
            "bin_end": 0.4,
            "count": 0
           },
           {
            "bin_start": 0.4,
            "bin_end": 0.5,
            "count": 0
           }
          ]
         }
        },
        {
         "name": "OTROMUERTO",
         "dtype": "int64",
         "stats": {
          "unique_count": 1,
          "nan_count": 0,
          "min": "0",
          "max": "0",
          "histogram": [
           {
            "bin_start": -0.5,
            "bin_end": -0.4,
            "count": 0
           },
           {
            "bin_start": -0.4,
            "bin_end": -0.3,
            "count": 0
           },
           {
            "bin_start": -0.3,
            "bin_end": -0.19999999999999996,
            "count": 0
           },
           {
            "bin_start": -0.19999999999999996,
            "bin_end": -0.09999999999999998,
            "count": 0
           },
           {
            "bin_start": -0.09999999999999998,
            "bin_end": 0,
            "count": 0
           },
           {
            "bin_start": 0,
            "bin_end": 0.10000000000000009,
            "count": 5
           },
           {
            "bin_start": 0.10000000000000009,
            "bin_end": 0.20000000000000007,
            "count": 0
           },
           {
            "bin_start": 0.20000000000000007,
            "bin_end": 0.30000000000000004,
            "count": 0
           },
           {
            "bin_start": 0.30000000000000004,
            "bin_end": 0.4,
            "count": 0
           },
           {
            "bin_start": 0.4,
            "bin_end": 0.5,
            "count": 0
           }
          ]
         }
        },
        {
         "name": "OTROHERIDO",
         "dtype": "int64",
         "stats": {
          "unique_count": 1,
          "nan_count": 0,
          "min": "0",
          "max": "0",
          "histogram": [
           {
            "bin_start": -0.5,
            "bin_end": -0.4,
            "count": 0
           },
           {
            "bin_start": -0.4,
            "bin_end": -0.3,
            "count": 0
           },
           {
            "bin_start": -0.3,
            "bin_end": -0.19999999999999996,
            "count": 0
           },
           {
            "bin_start": -0.19999999999999996,
            "bin_end": -0.09999999999999998,
            "count": 0
           },
           {
            "bin_start": -0.09999999999999998,
            "bin_end": 0,
            "count": 0
           },
           {
            "bin_start": 0,
            "bin_end": 0.10000000000000009,
            "count": 5
           },
           {
            "bin_start": 0.10000000000000009,
            "bin_end": 0.20000000000000007,
            "count": 0
           },
           {
            "bin_start": 0.20000000000000007,
            "bin_end": 0.30000000000000004,
            "count": 0
           },
           {
            "bin_start": 0.30000000000000004,
            "bin_end": 0.4,
            "count": 0
           },
           {
            "bin_start": 0.4,
            "bin_end": 0.5,
            "count": 0
           }
          ]
         }
        },
        {
         "name": "NEMUERTO",
         "dtype": "int64",
         "stats": {
          "unique_count": 1,
          "nan_count": 0,
          "min": "0",
          "max": "0",
          "histogram": [
           {
            "bin_start": -0.5,
            "bin_end": -0.4,
            "count": 0
           },
           {
            "bin_start": -0.4,
            "bin_end": -0.3,
            "count": 0
           },
           {
            "bin_start": -0.3,
            "bin_end": -0.19999999999999996,
            "count": 0
           },
           {
            "bin_start": -0.19999999999999996,
            "bin_end": -0.09999999999999998,
            "count": 0
           },
           {
            "bin_start": -0.09999999999999998,
            "bin_end": 0,
            "count": 0
           },
           {
            "bin_start": 0,
            "bin_end": 0.10000000000000009,
            "count": 5
           },
           {
            "bin_start": 0.10000000000000009,
            "bin_end": 0.20000000000000007,
            "count": 0
           },
           {
            "bin_start": 0.20000000000000007,
            "bin_end": 0.30000000000000004,
            "count": 0
           },
           {
            "bin_start": 0.30000000000000004,
            "bin_end": 0.4,
            "count": 0
           },
           {
            "bin_start": 0.4,
            "bin_end": 0.5,
            "count": 0
           }
          ]
         }
        },
        {
         "name": "NEHERIDO",
         "dtype": "int64",
         "stats": {
          "unique_count": 1,
          "nan_count": 0,
          "min": "0",
          "max": "0",
          "histogram": [
           {
            "bin_start": -0.5,
            "bin_end": -0.4,
            "count": 0
           },
           {
            "bin_start": -0.4,
            "bin_end": -0.3,
            "count": 0
           },
           {
            "bin_start": -0.3,
            "bin_end": -0.19999999999999996,
            "count": 0
           },
           {
            "bin_start": -0.19999999999999996,
            "bin_end": -0.09999999999999998,
            "count": 0
           },
           {
            "bin_start": -0.09999999999999998,
            "bin_end": 0,
            "count": 0
           },
           {
            "bin_start": 0,
            "bin_end": 0.10000000000000009,
            "count": 5
           },
           {
            "bin_start": 0.10000000000000009,
            "bin_end": 0.20000000000000007,
            "count": 0
           },
           {
            "bin_start": 0.20000000000000007,
            "bin_end": 0.30000000000000004,
            "count": 0
           },
           {
            "bin_start": 0.30000000000000004,
            "bin_end": 0.4,
            "count": 0
           },
           {
            "bin_start": 0.4,
            "bin_end": 0.5,
            "count": 0
           }
          ]
         }
        },
        {
         "name": "CLASACC",
         "dtype": "object",
         "stats": {
          "unique_count": 2,
          "nan_count": 0,
          "categories": [
           {
            "name": "Sólo daños",
            "count": 3
           },
           {
            "name": "No fatal",
            "count": 2
           }
          ]
         }
        },
        {
         "name": "ESTATUS",
         "dtype": "object",
         "stats": {
          "unique_count": 1,
          "nan_count": 0,
          "categories": [
           {
            "name": "Cifras Definitivas",
            "count": 5
           }
          ]
         }
        },
        {
         "name": "_deepnote_index_column",
         "dtype": "int64"
        }
       ],
       "rows": [
        {
         "Entidad": "Aguascalientes",
         "Municipio ": "Aguascalientes",
         "ANIO": 2019,
         "MES": 1,
         "Hora": 1,
         "Minuto": 5,
         "Día": 1,
         "DIASEMANA": "Martes",
         "URBANA": "Accidente en intersección",
         "SUBURBANA": "Sin accidente en esta zona",
         "TIPACCID": "Colisión con vehículo automotor",
         "AUTOMOVIL": 0,
         "CAMPASAJ": 1,
         "MICROBUS": 0,
         "PASCAMION": 0,
         "OMNIBUS": 0,
         "TRANVIA": 0,
         "CAMIONETA": 1,
         "CAMION": 0,
         "TRACTOR": 0,
         "FERROCARRI": 0,
         "MOTOCICLET": 0,
         "BICICLETA": 0,
         "OTROVEHIC": 0,
         "CAUSAACCI": "Conductor",
         "CAPAROD": "Pavimentada",
         "SEXO": "Hombre",
         "ALIENTO": "Sí",
         "CINTURON": "Se ignora",
         "edad": 22,
         "CONDMUERTO": 0,
         "CONDHERIDO": 0,
         "PASAMUERTO": 0,
         "PASAHERIDO": 2,
         "PEATMUERTO": 0,
         "PEATHERIDO": 0,
         "CICLMUERTO": 0,
         "CICLHERIDO": 0,
         "OTROMUERTO": 0,
         "OTROHERIDO": 0,
         "NEMUERTO": 0,
         "NEHERIDO": 0,
         "CLASACC": "No fatal",
         "ESTATUS": "Cifras Definitivas",
         "_deepnote_index_column": 0
        },
        {
         "Entidad": "Aguascalientes",
         "Municipio ": "Aguascalientes",
         "ANIO": 2019,
         "MES": 1,
         "Hora": 3,
         "Minuto": 53,
         "Día": 1,
         "DIASEMANA": "Martes",
         "URBANA": "Accidente en intersección",
         "SUBURBANA": "Sin accidente en esta zona",
         "TIPACCID": "Colisión con vehículo automotor",
         "AUTOMOVIL": 4,
         "CAMPASAJ": 1,
         "MICROBUS": 0,
         "PASCAMION": 0,
         "OMNIBUS": 0,
         "TRANVIA": 0,
         "CAMIONETA": 0,
         "CAMION": 0,
         "TRACTOR": 0,
         "FERROCARRI": 0,
         "MOTOCICLET": 0,
         "BICICLETA": 0,
         "OTROVEHIC": 0,
         "CAUSAACCI": "Conductor",
         "CAPAROD": "Pavimentada",
         "SEXO": "Hombre",
         "ALIENTO": "No",
         "CINTURON": "Se ignora",
         "edad": 22,
         "CONDMUERTO": 0,
         "CONDHERIDO": 1,
         "PASAMUERTO": 0,
         "PASAHERIDO": 0,
         "PEATMUERTO": 0,
         "PEATHERIDO": 0,
         "CICLMUERTO": 0,
         "CICLHERIDO": 0,
         "OTROMUERTO": 0,
         "OTROHERIDO": 0,
         "NEMUERTO": 0,
         "NEHERIDO": 0,
         "CLASACC": "No fatal",
         "ESTATUS": "Cifras Definitivas",
         "_deepnote_index_column": 1
        },
        {
         "Entidad": "Aguascalientes",
         "Municipio ": "Aguascalientes",
         "ANIO": 2019,
         "MES": 1,
         "Hora": 5,
         "Minuto": 35,
         "Día": 1,
         "DIASEMANA": "Martes",
         "URBANA": "Accidente en intersección",
         "SUBURBANA": "Sin accidente en esta zona",
         "TIPACCID": "Colisión con vehículo automotor",
         "AUTOMOVIL": 2,
         "CAMPASAJ": 0,
         "MICROBUS": 0,
         "PASCAMION": 0,
         "OMNIBUS": 0,
         "TRANVIA": 0,
         "CAMIONETA": 0,
         "CAMION": 0,
         "TRACTOR": 0,
         "FERROCARRI": 0,
         "MOTOCICLET": 0,
         "BICICLETA": 0,
         "OTROVEHIC": 0,
         "CAUSAACCI": "Conductor",
         "CAPAROD": "Pavimentada",
         "SEXO": "Hombre",
         "ALIENTO": "No",
         "CINTURON": "Se ignora",
         "edad": 28,
         "CONDMUERTO": 0,
         "CONDHERIDO": 0,
         "PASAMUERTO": 0,
         "PASAHERIDO": 0,
         "PEATMUERTO": 0,
         "PEATHERIDO": 0,
         "CICLMUERTO": 0,
         "CICLHERIDO": 0,
         "OTROMUERTO": 0,
         "OTROHERIDO": 0,
         "NEMUERTO": 0,
         "NEHERIDO": 0,
         "CLASACC": "Sólo daños",
         "ESTATUS": "Cifras Definitivas",
         "_deepnote_index_column": 2
        },
        {
         "Entidad": "Aguascalientes",
         "Municipio ": "Aguascalientes",
         "ANIO": 2019,
         "MES": 1,
         "Hora": 6,
         "Minuto": 50,
         "Día": 1,
         "DIASEMANA": "Martes",
         "URBANA": "Accidente en intersección",
         "SUBURBANA": "Sin accidente en esta zona",
         "TIPACCID": "Colisión con objeto fijo",
         "AUTOMOVIL": 1,
         "CAMPASAJ": 0,
         "MICROBUS": 0,
         "PASCAMION": 0,
         "OMNIBUS": 0,
         "TRANVIA": 0,
         "CAMIONETA": 0,
         "CAMION": 0,
         "TRACTOR": 0,
         "FERROCARRI": 0,
         "MOTOCICLET": 0,
         "BICICLETA": 0,
         "OTROVEHIC": 0,
         "CAUSAACCI": "Conductor",
         "CAPAROD": "Pavimentada",
         "SEXO": "Hombre",
         "ALIENTO": "No",
         "CINTURON": "Se ignora",
         "edad": 20,
         "CONDMUERTO": 0,
         "CONDHERIDO": 0,
         "PASAMUERTO": 0,
         "PASAHERIDO": 0,
         "PEATMUERTO": 0,
         "PEATHERIDO": 0,
         "CICLMUERTO": 0,
         "CICLHERIDO": 0,
         "OTROMUERTO": 0,
         "OTROHERIDO": 0,
         "NEMUERTO": 0,
         "NEHERIDO": 0,
         "CLASACC": "Sólo daños",
         "ESTATUS": "Cifras Definitivas",
         "_deepnote_index_column": 3
        },
        {
         "Entidad": "Aguascalientes",
         "Municipio ": "Aguascalientes",
         "ANIO": 2019,
         "MES": 1,
         "Hora": 8,
         "Minuto": 50,
         "Día": 1,
         "DIASEMANA": "Martes",
         "URBANA": "Accidente en intersección",
         "SUBURBANA": "Sin accidente en esta zona",
         "TIPACCID": "Colisión con objeto fijo",
         "AUTOMOVIL": 0,
         "CAMPASAJ": 1,
         "MICROBUS": 0,
         "PASCAMION": 0,
         "OMNIBUS": 0,
         "TRANVIA": 0,
         "CAMIONETA": 0,
         "CAMION": 0,
         "TRACTOR": 0,
         "FERROCARRI": 0,
         "MOTOCICLET": 0,
         "BICICLETA": 0,
         "OTROVEHIC": 0,
         "CAUSAACCI": "Conductor",
         "CAPAROD": "Pavimentada",
         "SEXO": "Mujer",
         "ALIENTO": "No",
         "CINTURON": "Se ignora",
         "edad": 35,
         "CONDMUERTO": 0,
         "CONDHERIDO": 0,
         "PASAMUERTO": 0,
         "PASAHERIDO": 0,
         "PEATMUERTO": 0,
         "PEATHERIDO": 0,
         "CICLMUERTO": 0,
         "CICLHERIDO": 0,
         "OTROMUERTO": 0,
         "OTROHERIDO": 0,
         "NEMUERTO": 0,
         "NEHERIDO": 0,
         "CLASACC": "Sólo daños",
         "ESTATUS": "Cifras Definitivas",
         "_deepnote_index_column": 4
        }
       ]
      },
      "text/plain": "          Entidad      Municipio   ANIO  MES  Hora  Minuto  Día DIASEMANA  \\\n0  Aguascalientes  Aguascalientes  2019    1     1       5    1    Martes   \n1  Aguascalientes  Aguascalientes  2019    1     3      53    1    Martes   \n2  Aguascalientes  Aguascalientes  2019    1     5      35    1    Martes   \n3  Aguascalientes  Aguascalientes  2019    1     6      50    1    Martes   \n4  Aguascalientes  Aguascalientes  2019    1     8      50    1    Martes   \n\n                      URBANA                   SUBURBANA  ... PEATMUERTO  \\\n0  Accidente en intersección  Sin accidente en esta zona  ...          0   \n1  Accidente en intersección  Sin accidente en esta zona  ...          0   \n2  Accidente en intersección  Sin accidente en esta zona  ...          0   \n3  Accidente en intersección  Sin accidente en esta zona  ...          0   \n4  Accidente en intersección  Sin accidente en esta zona  ...          0   \n\n   PEATHERIDO  CICLMUERTO  CICLHERIDO  OTROMUERTO  OTROHERIDO  NEMUERTO  \\\n0           0           0           0           0           0         0   \n1           0           0           0           0           0         0   \n2           0           0           0           0           0         0   \n3           0           0           0           0           0         0   \n4           0           0           0           0           0         0   \n\n   NEHERIDO     CLASACC             ESTATUS  \n0         0    No fatal  Cifras Definitivas  \n1         0    No fatal  Cifras Definitivas  \n2         0  Sólo daños  Cifras Definitivas  \n3         0  Sólo daños  Cifras Definitivas  \n4         0  Sólo daños  Cifras Definitivas  \n\n[5 rows x 44 columns]",
      "text/html": "<div>\n<style scoped>\n    .dataframe tbody tr th:only-of-type {\n        vertical-align: middle;\n    }\n\n    .dataframe tbody tr th {\n        vertical-align: top;\n    }\n\n    .dataframe thead th {\n        text-align: right;\n    }\n</style>\n<table border=\"1\" class=\"dataframe\">\n  <thead>\n    <tr style=\"text-align: right;\">\n      <th></th>\n      <th>Entidad</th>\n      <th>Municipio</th>\n      <th>ANIO</th>\n      <th>MES</th>\n      <th>Hora</th>\n      <th>Minuto</th>\n      <th>Día</th>\n      <th>DIASEMANA</th>\n      <th>URBANA</th>\n      <th>SUBURBANA</th>\n      <th>...</th>\n      <th>PEATMUERTO</th>\n      <th>PEATHERIDO</th>\n      <th>CICLMUERTO</th>\n      <th>CICLHERIDO</th>\n      <th>OTROMUERTO</th>\n      <th>OTROHERIDO</th>\n      <th>NEMUERTO</th>\n      <th>NEHERIDO</th>\n      <th>CLASACC</th>\n      <th>ESTATUS</th>\n    </tr>\n  </thead>\n  <tbody>\n    <tr>\n      <th>0</th>\n      <td>Aguascalientes</td>\n      <td>Aguascalientes</td>\n      <td>2019</td>\n      <td>1</td>\n      <td>1</td>\n      <td>5</td>\n      <td>1</td>\n      <td>Martes</td>\n      <td>Accidente en intersección</td>\n      <td>Sin accidente en esta zona</td>\n      <td>...</td>\n      <td>0</td>\n      <td>0</td>\n      <td>0</td>\n      <td>0</td>\n      <td>0</td>\n      <td>0</td>\n      <td>0</td>\n      <td>0</td>\n      <td>No fatal</td>\n      <td>Cifras Definitivas</td>\n    </tr>\n    <tr>\n      <th>1</th>\n      <td>Aguascalientes</td>\n      <td>Aguascalientes</td>\n      <td>2019</td>\n      <td>1</td>\n      <td>3</td>\n      <td>53</td>\n      <td>1</td>\n      <td>Martes</td>\n      <td>Accidente en intersección</td>\n      <td>Sin accidente en esta zona</td>\n      <td>...</td>\n      <td>0</td>\n      <td>0</td>\n      <td>0</td>\n      <td>0</td>\n      <td>0</td>\n      <td>0</td>\n      <td>0</td>\n      <td>0</td>\n      <td>No fatal</td>\n      <td>Cifras Definitivas</td>\n    </tr>\n    <tr>\n      <th>2</th>\n      <td>Aguascalientes</td>\n      <td>Aguascalientes</td>\n      <td>2019</td>\n      <td>1</td>\n      <td>5</td>\n      <td>35</td>\n      <td>1</td>\n      <td>Martes</td>\n      <td>Accidente en intersección</td>\n      <td>Sin accidente en esta zona</td>\n      <td>...</td>\n      <td>0</td>\n      <td>0</td>\n      <td>0</td>\n      <td>0</td>\n      <td>0</td>\n      <td>0</td>\n      <td>0</td>\n      <td>0</td>\n      <td>Sólo daños</td>\n      <td>Cifras Definitivas</td>\n    </tr>\n    <tr>\n      <th>3</th>\n      <td>Aguascalientes</td>\n      <td>Aguascalientes</td>\n      <td>2019</td>\n      <td>1</td>\n      <td>6</td>\n      <td>50</td>\n      <td>1</td>\n      <td>Martes</td>\n      <td>Accidente en intersección</td>\n      <td>Sin accidente en esta zona</td>\n      <td>...</td>\n      <td>0</td>\n      <td>0</td>\n      <td>0</td>\n      <td>0</td>\n      <td>0</td>\n      <td>0</td>\n      <td>0</td>\n      <td>0</td>\n      <td>Sólo daños</td>\n      <td>Cifras Definitivas</td>\n    </tr>\n    <tr>\n      <th>4</th>\n      <td>Aguascalientes</td>\n      <td>Aguascalientes</td>\n      <td>2019</td>\n      <td>1</td>\n      <td>8</td>\n      <td>50</td>\n      <td>1</td>\n      <td>Martes</td>\n      <td>Accidente en intersección</td>\n      <td>Sin accidente en esta zona</td>\n      <td>...</td>\n      <td>0</td>\n      <td>0</td>\n      <td>0</td>\n      <td>0</td>\n      <td>0</td>\n      <td>0</td>\n      <td>0</td>\n      <td>0</td>\n      <td>Sólo daños</td>\n      <td>Cifras Definitivas</td>\n    </tr>\n  </tbody>\n</table>\n<p>5 rows × 44 columns</p>\n</div>"
     },
     "metadata": {}
    }
   ],
   "execution_count": null
  },
  {
   "cell_type": "code",
   "source": "df.info()",
   "metadata": {
    "cell_id": "d63f4a71d0714dbab064eacb93ab83ac",
    "tags": [],
    "deepnote_to_be_reexecuted": false,
    "source_hash": "de1e323c",
    "execution_start": 1648312557839,
    "execution_millis": 423,
    "deepnote_cell_type": "code",
    "deepnote_cell_height": 701
   },
   "outputs": [
    {
     "name": "stdout",
     "text": "<class 'pandas.core.frame.DataFrame'>\nRangeIndex: 378814 entries, 0 to 378813\nData columns (total 44 columns):\n #   Column      Non-Null Count   Dtype \n---  ------      --------------   ----- \n 0   Entidad     378814 non-null  object\n 1   Municipio   378814 non-null  object\n 2   ANIO        378814 non-null  int64 \n 3   MES         378814 non-null  int64 \n 4   Hora        378814 non-null  int64 \n 5   Minuto      378814 non-null  int64 \n 6   Día         378814 non-null  int64 \n 7   DIASEMANA   378814 non-null  object\n 8   URBANA      378814 non-null  object\n 9   SUBURBANA   378814 non-null  object\n 10  TIPACCID    378814 non-null  object\n 11  AUTOMOVIL   378814 non-null  int64 \n 12  CAMPASAJ    378814 non-null  int64 \n 13  MICROBUS    378814 non-null  int64 \n 14  PASCAMION   378814 non-null  int64 \n 15  OMNIBUS     378814 non-null  int64 \n 16  TRANVIA     378814 non-null  int64 \n 17  CAMIONETA   378814 non-null  int64 \n 18  CAMION      378814 non-null  int64 \n 19  TRACTOR     378814 non-null  int64 \n 20  FERROCARRI  378814 non-null  int64 \n 21  MOTOCICLET  378814 non-null  int64 \n 22  BICICLETA   378814 non-null  int64 \n 23  OTROVEHIC   378814 non-null  int64 \n 24  CAUSAACCI   378814 non-null  object\n 25  CAPAROD     378814 non-null  object\n 26  SEXO        378814 non-null  object\n 27  ALIENTO     378814 non-null  object\n 28  CINTURON    378814 non-null  object\n 29  edad        378814 non-null  int64 \n 30  CONDMUERTO  378814 non-null  int64 \n 31  CONDHERIDO  378814 non-null  int64 \n 32  PASAMUERTO  378814 non-null  int64 \n 33  PASAHERIDO  378814 non-null  int64 \n 34  PEATMUERTO  378814 non-null  int64 \n 35  PEATHERIDO  378814 non-null  int64 \n 36  CICLMUERTO  378814 non-null  int64 \n 37  CICLHERIDO  378814 non-null  int64 \n 38  OTROMUERTO  378814 non-null  int64 \n 39  OTROHERIDO  378814 non-null  int64 \n 40  NEMUERTO    378814 non-null  int64 \n 41  NEHERIDO    378814 non-null  int64 \n 42  CLASACC     378814 non-null  object\n 43  ESTATUS     378814 non-null  object\ndtypes: int64(31), object(13)\nmemory usage: 127.2+ MB\n",
     "output_type": "stream"
    }
   ],
   "execution_count": null
  },
  {
   "cell_type": "code",
   "source": "df.isnull().sum()",
   "metadata": {
    "cell_id": "4a3058322a6e4c178150c8cc7939dd58",
    "tags": [],
    "deepnote_to_be_reexecuted": false,
    "source_hash": "f3dd26da",
    "execution_start": 1648312576036,
    "execution_millis": 228,
    "deepnote_cell_type": "code",
    "deepnote_cell_height": 708,
    "deepnote_output_heights": [
     611
    ]
   },
   "outputs": [
    {
     "output_type": "execute_result",
     "execution_count": 6,
     "data": {
      "text/plain": "Entidad       0\nMunicipio     0\nANIO          0\nMES           0\nHora          0\nMinuto        0\nDía           0\nDIASEMANA     0\nURBANA        0\nSUBURBANA     0\nTIPACCID      0\nAUTOMOVIL     0\nCAMPASAJ      0\nMICROBUS      0\nPASCAMION     0\nOMNIBUS       0\nTRANVIA       0\nCAMIONETA     0\nCAMION        0\nTRACTOR       0\nFERROCARRI    0\nMOTOCICLET    0\nBICICLETA     0\nOTROVEHIC     0\nCAUSAACCI     0\nCAPAROD       0\nSEXO          0\nALIENTO       0\nCINTURON      0\nedad          0\nCONDMUERTO    0\nCONDHERIDO    0\nPASAMUERTO    0\nPASAHERIDO    0\nPEATMUERTO    0\nPEATHERIDO    0\nCICLMUERTO    0\nCICLHERIDO    0\nOTROMUERTO    0\nOTROHERIDO    0\nNEMUERTO      0\nNEHERIDO      0\nCLASACC       0\nESTATUS       0\ndtype: int64"
     },
     "metadata": {}
    }
   ],
   "execution_count": null
  },
  {
   "cell_type": "code",
   "source": "df.nunique()",
   "metadata": {
    "cell_id": "d6f16dd227c846498a8362f0db1123e6",
    "tags": [],
    "deepnote_to_be_reexecuted": false,
    "source_hash": "ae6b491",
    "execution_start": 1648312646760,
    "execution_millis": 728,
    "deepnote_cell_type": "code",
    "deepnote_cell_height": 708,
    "deepnote_output_heights": [
     611
    ]
   },
   "outputs": [
    {
     "output_type": "execute_result",
     "execution_count": 8,
     "data": {
      "text/plain": "Entidad        32\nMunicipio     567\nANIO            1\nMES            12\nHora           24\nMinuto         60\nDía            31\nDIASEMANA       7\nURBANA          3\nSUBURBANA       4\nTIPACCID       13\nAUTOMOVIL      10\nCAMPASAJ        7\nMICROBUS        4\nPASCAMION       5\nOMNIBUS         5\nTRANVIA         2\nCAMIONETA       8\nCAMION          6\nTRACTOR         5\nFERROCARRI      2\nMOTOCICLET      6\nBICICLETA       5\nOTROVEHIC       8\nCAUSAACCI       6\nCAPAROD         3\nSEXO            4\nALIENTO         4\nCINTURON        4\nedad           87\nCONDMUERTO      4\nCONDHERIDO      5\nPASAMUERTO      9\nPASAHERIDO     31\nPEATMUERTO      4\nPEATHERIDO      8\nCICLMUERTO      3\nCICLHERIDO      5\nOTROMUERTO      3\nOTROHERIDO      4\nNEMUERTO        1\nNEHERIDO        1\nCLASACC         4\nESTATUS         1\ndtype: int64"
     },
     "metadata": {}
    }
   ],
   "execution_count": null
  },
  {
   "cell_type": "code",
   "source": "df['Entidad'].value_counts().sort_values(ascending=False)",
   "metadata": {
    "cell_id": "7dda4a50ae29417ab146396eb7f73874",
    "tags": [],
    "deepnote_to_be_reexecuted": false,
    "source_hash": "73115c09",
    "execution_start": 1648312808208,
    "execution_millis": 10,
    "deepnote_cell_type": "code",
    "deepnote_cell_height": 708,
    "deepnote_output_heights": [
     611
    ]
   },
   "outputs": [
    {
     "output_type": "execute_result",
     "execution_count": 14,
     "data": {
      "text/plain": "Nuevo Leon                         77104\nChihuahua                          28310\nJalisco                            20789\nGuanajuato                         19928\nMexico                             17093\nSonora                             17074\nMichoacan de Ocampo                14421\nVeracruz de Ignacio de la Llave    14363\nTamaulipas                         14002\nCoahuila de Zaragoza               13557\nQueretaro                          13426\nBaja California                    12726\nOaxaca                             11238\nCiudad de México                   10673\nMorelos                            10032\nPuebla                              9736\nSinaloa                             9252\nYucatan                             6824\nQuintana Roo                        6432\nSan Luis Potosi                     6003\nDurango                             5985\nGuerrero                            5963\nColima                              5296\nChiapas                             4655\nHidalgo                             3799\nAguascalientes                      3787\nCampeche                            3592\nBaja California Sur                 3217\nZacatecas                           2723\nTabasco                             2669\nTlaxcala                            2644\nNayarit                             1501\nName: Entidad, dtype: int64"
     },
     "metadata": {}
    }
   ],
   "execution_count": null
  },
  {
   "cell_type": "code",
   "source": "x = df['Entidad'].value_counts().sort_values(ascending=False).index\ny = df['Entidad'].value_counts().sort_values(ascending=False).values",
   "metadata": {
    "cell_id": "7a441b1eaa6d48f38b740295bf99b735",
    "tags": [],
    "deepnote_to_be_reexecuted": false,
    "source_hash": "5ce1400f",
    "execution_start": 1648312818111,
    "execution_millis": 43,
    "deepnote_cell_type": "code",
    "deepnote_cell_height": 99
   },
   "outputs": [],
   "execution_count": null
  },
  {
   "cell_type": "code",
   "source": "import matplotlib.pyplot as plt",
   "metadata": {
    "cell_id": "73765d1d78ee4bd3a5e600f19099b112",
    "tags": [],
    "deepnote_to_be_reexecuted": false,
    "source_hash": "6a77453d",
    "execution_start": 1648312835678,
    "execution_millis": 3,
    "deepnote_cell_type": "code",
    "deepnote_cell_height": 81
   },
   "outputs": [],
   "execution_count": null
  },
  {
   "cell_type": "code",
   "source": "plt.figure(figsize=[9,6])\nplt.bar(x, y)\nplt.grid()\nplt.xticks(rotation=90)\nplt.show()",
   "metadata": {
    "cell_id": "a78af511e9e74ffe8471b1eedd746374",
    "tags": [],
    "deepnote_to_be_reexecuted": false,
    "source_hash": "16715ba9",
    "execution_start": 1648312956766,
    "execution_millis": 493,
    "deepnote_cell_type": "code",
    "deepnote_cell_height": 674,
    "deepnote_output_heights": [
     505
    ]
   },
   "outputs": [
    {
     "data": {
      "text/plain": "<Figure size 648x432 with 1 Axes>",
      "image/png": "[encoded data removed]"
     },
     "metadata": {
      "needs_background": "light",
      "image/png": {
       "width": 554,
       "height": 503
      }
     },
     "output_type": "display_data"
    }
   ],
   "execution_count": null
  },
  {
   "cell_type": "markdown",
   "source": "- Nuevo León es el estado con más accidentes en todo nuestro país con 77,104 accidentes solo en 2019",
   "metadata": {
    "cell_id": "c418652ce1b04771bc27b06f9b7da85d",
    "tags": [],
    "deepnote_to_be_reexecuted": false,
    "source_hash": "86942333",
    "execution_start": 1648313045879,
    "execution_millis": 5,
    "deepnote_cell_type": "markdown",
    "deepnote_cell_height": 69.390625
   },
   "outputs": [],
   "execution_count": 28
  },
  {
   "cell_type": "code",
   "source": "df['Municipio '].value_counts().sort_values(ascending=False)",
   "metadata": {
    "cell_id": "f92f24c91c0f45d191ab2ecebd6a0269",
    "tags": [],
    "deepnote_to_be_reexecuted": false,
    "source_hash": "c6d598a",
    "execution_start": 1648313288938,
    "execution_millis": 9,
    "deepnote_cell_type": "code",
    "deepnote_cell_height": 502.1875,
    "deepnote_output_heights": [
     405.1875
    ]
   },
   "outputs": [
    {
     "output_type": "execute_result",
     "execution_count": 35,
     "data": {
      "text/plain": "Huitiupán              40851\nMorelos                16145\nPabellón de Arteaga    13313\nAguascalientes         13225\nJiquipilas             11361\nJiménez                11357\nMonclova               10880\nRincón de Romos        10761\nJesús María            10604\nVilla Unión             9049\nJuárez                  8098\nAsientos                7904\nNadadores               7797\nMatamoros               7669\nCalvillo                7381\nSan Pedro               7098\nCosío                   6913\nTorreón                 6865\nMazapa de Madero        6833\nProgreso                6483\nName: Municipio , dtype: int64"
     },
     "metadata": {}
    }
   ],
   "execution_count": null
  },
  {
   "cell_type": "code",
   "source": "x = df['Municipio '].value_counts().sort_values(ascending=False).head(20).index\ny = df['Municipio '].value_counts().sort_values(ascending=False).head(20).values",
   "metadata": {
    "cell_id": "dd6a56a1fe0a4042adc534d8a93f288e",
    "tags": [],
    "deepnote_to_be_reexecuted": false,
    "source_hash": "b4fcd0b9",
    "execution_start": 1648313375152,
    "execution_millis": 100,
    "deepnote_cell_type": "code",
    "deepnote_cell_height": 99
   },
   "outputs": [],
   "execution_count": null
  },
  {
   "cell_type": "code",
   "source": "plt.figure(figsize=[8,6])\nplt.bar(x, y)\nplt.xticks(rotation=90)\nplt.show()",
   "metadata": {
    "cell_id": "73e459aac57e42f08f9939b2a9d5794b",
    "tags": [],
    "deepnote_to_be_reexecuted": false,
    "source_hash": "fcb45d7",
    "execution_start": 1648313461701,
    "execution_millis": 331,
    "deepnote_cell_type": "code",
    "deepnote_cell_height": 601,
    "deepnote_output_heights": [
     450
    ]
   },
   "outputs": [
    {
     "data": {
      "text/plain": "<Figure size 576x432 with 1 Axes>",
      "image/png": "[encoded data removed]"
     },
     "metadata": {
      "needs_background": "light",
      "image/png": {
       "width": 499,
       "height": 448
      }
     },
     "output_type": "display_data"
    }
   ],
   "execution_count": null
  },
  {
   "cell_type": "code",
   "source": "df[df['Municipio '] == 'Huitiupán']",
   "metadata": {
    "cell_id": "a399e20c02f24cf780c715a70284edad",
    "tags": [],
    "deepnote_to_be_reexecuted": false,
    "source_hash": "aa0d00e4",
    "execution_start": 1648313760858,
    "execution_millis": 164,
    "deepnote_cell_type": "code",
    "deepnote_cell_height": 614.796875
   },
   "outputs": [
    {
     "output_type": "execute_result",
     "execution_count": 43,
     "data": {
      "application/vnd.deepnote.dataframe.v3+json": {
       "column_count": 44,
       "row_count": 40851,
       "columns": [
        {
         "name": "Entidad",
         "dtype": "object",
         "stats": {
          "unique_count": 19,
          "nan_count": 0,
          "categories": [
           {
            "name": "Nuevo Leon",
            "count": 31513
           },
           {
            "name": "Jalisco",
            "count": 7544
           },
           {
            "name": "17 others",
            "count": 1794
           }
          ]
         }
        },
        {
         "name": "Municipio ",
         "dtype": "object",
         "stats": {
          "unique_count": 1,
          "nan_count": 0,
          "categories": [
           {
            "name": "Huitiupán",
            "count": 40851
           }
          ]
         }
        },
        {
         "name": "ANIO",
         "dtype": "int64"
        },
        {
         "name": "MES",
         "dtype": "int64"
        },
        {
         "name": "Hora",
         "dtype": "int64"
        },
        {
         "name": "Minuto",
         "dtype": "int64"
        },
        {
         "name": "Día",
         "dtype": "int64"
        },
        {
         "name": "DIASEMANA",
         "dtype": "object"
        },
        {
         "name": "URBANA",
         "dtype": "object"
        },
        {
         "name": "SUBURBANA",
         "dtype": "object"
        },
        {
         "name": "TIPACCID",
         "dtype": "object"
        },
        {
         "name": "AUTOMOVIL",
         "dtype": "int64"
        },
        {
         "name": "CAMPASAJ",
         "dtype": "int64"
        },
        {
         "name": "MICROBUS",
         "dtype": "int64"
        },
        {
         "name": "PASCAMION",
         "dtype": "int64"
        },
        {
         "name": "OMNIBUS",
         "dtype": "int64"
        },
        {
         "name": "TRANVIA",
         "dtype": "int64"
        },
        {
         "name": "CAMIONETA",
         "dtype": "int64"
        },
        {
         "name": "CAMION",
         "dtype": "int64"
        },
        {
         "name": "TRACTOR",
         "dtype": "int64"
        },
        {
         "name": "FERROCARRI",
         "dtype": "int64"
        },
        {
         "name": "MOTOCICLET",
         "dtype": "int64"
        },
        {
         "name": "BICICLETA",
         "dtype": "int64"
        },
        {
         "name": "OTROVEHIC",
         "dtype": "int64"
        },
        {
         "name": "CAUSAACCI",
         "dtype": "object"
        },
        {
         "name": "CAPAROD",
         "dtype": "object"
        },
        {
         "name": "SEXO",
         "dtype": "object"
        },
        {
         "name": "ALIENTO",
         "dtype": "object"
        },
        {
         "name": "CINTURON",
         "dtype": "object"
        },
        {
         "name": "edad",
         "dtype": "int64"
        },
        {
         "name": "CONDMUERTO",
         "dtype": "int64"
        },
        {
         "name": "CONDHERIDO",
         "dtype": "int64"
        },
        {
         "name": "PASAMUERTO",
         "dtype": "int64"
        },
        {
         "name": "PASAHERIDO",
         "dtype": "int64"
        },
        {
         "name": "PEATMUERTO",
         "dtype": "int64"
        },
        {
         "name": "PEATHERIDO",
         "dtype": "int64"
        },
        {
         "name": "CICLMUERTO",
         "dtype": "int64"
        },
        {
         "name": "CICLHERIDO",
         "dtype": "int64"
        },
        {
         "name": "OTROMUERTO",
         "dtype": "int64"
        },
        {
         "name": "OTROHERIDO",
         "dtype": "int64"
        },
        {
         "name": "NEMUERTO",
         "dtype": "int64"
        },
        {
         "name": "NEHERIDO",
         "dtype": "int64"
        },
        {
         "name": "CLASACC",
         "dtype": "object"
        },
        {
         "name": "ESTATUS",
         "dtype": "object"
        },
        {
         "name": "_deepnote_index_column",
         "dtype": "int64"
        }
       ],
       "rows": [
        {
         "Entidad": "Chiapas",
         "Municipio ": "Huitiupán",
         "ANIO": 2019,
         "MES": 1,
         "Hora": 23,
         "Minuto": 0,
         "Día": 28,
         "DIASEMANA": "lunes",
         "URBANA": "Sin accidente en esta zona",
         "SUBURBANA": "Sin accidente en esta zona",
         "TIPACCID": "Certificado cero",
         "AUTOMOVIL": 0,
         "CAMPASAJ": 0,
         "MICROBUS": 0,
         "PASCAMION": 0,
         "OMNIBUS": 0,
         "TRANVIA": 0,
         "CAMIONETA": 0,
         "CAMION": 0,
         "TRACTOR": 0,
         "FERROCARRI": 0,
         "MOTOCICLET": 0,
         "BICICLETA": 0,
         "OTROVEHIC": 0,
         "CAUSAACCI": "Certificado cero",
         "CAPAROD": "Certificado cero",
         "SEXO": "Certificado cero",
         "ALIENTO": "Certificado cero",
         "CINTURON": "Certificado cero",
         "edad": 0,
         "CONDMUERTO": 0,
         "CONDHERIDO": 0,
         "PASAMUERTO": 0,
         "PASAHERIDO": 0,
         "PEATMUERTO": 0,
         "PEATHERIDO": 0,
         "CICLMUERTO": 0,
         "CICLHERIDO": 0,
         "OTROMUERTO": 0,
         "OTROHERIDO": 0,
         "NEMUERTO": 0,
         "NEHERIDO": 0,
         "CLASACC": "Certificado cero",
         "ESTATUS": "Cifras Definitivas",
         "_deepnote_index_column": 43555
        },
        {
         "Entidad": "Chiapas",
         "Municipio ": "Huitiupán",
         "ANIO": 2019,
         "MES": 2,
         "Hora": 23,
         "Minuto": 0,
         "Día": 28,
         "DIASEMANA": "lunes",
         "URBANA": "Sin accidente en esta zona",
         "SUBURBANA": "Sin accidente en esta zona",
         "TIPACCID": "Certificado cero",
         "AUTOMOVIL": 0,
         "CAMPASAJ": 0,
         "MICROBUS": 0,
         "PASCAMION": 0,
         "OMNIBUS": 0,
         "TRANVIA": 0,
         "CAMIONETA": 0,
         "CAMION": 0,
         "TRACTOR": 0,
         "FERROCARRI": 0,
         "MOTOCICLET": 0,
         "BICICLETA": 0,
         "OTROVEHIC": 0,
         "CAUSAACCI": "Certificado cero",
         "CAPAROD": "Certificado cero",
         "SEXO": "Certificado cero",
         "ALIENTO": "Certificado cero",
         "CINTURON": "Certificado cero",
         "edad": 0,
         "CONDMUERTO": 0,
         "CONDHERIDO": 0,
         "PASAMUERTO": 0,
         "PASAHERIDO": 0,
         "PEATMUERTO": 0,
         "PEATHERIDO": 0,
         "CICLMUERTO": 0,
         "CICLHERIDO": 0,
         "OTROMUERTO": 0,
         "OTROHERIDO": 0,
         "NEMUERTO": 0,
         "NEHERIDO": 0,
         "CLASACC": "Certificado cero",
         "ESTATUS": "Cifras Definitivas",
         "_deepnote_index_column": 43556
        },
        {
         "Entidad": "Chiapas",
         "Municipio ": "Huitiupán",
         "ANIO": 2019,
         "MES": 3,
         "Hora": 23,
         "Minuto": 0,
         "Día": 28,
         "DIASEMANA": "lunes",
         "URBANA": "Sin accidente en esta zona",
         "SUBURBANA": "Sin accidente en esta zona",
         "TIPACCID": "Certificado cero",
         "AUTOMOVIL": 0,
         "CAMPASAJ": 0,
         "MICROBUS": 0,
         "PASCAMION": 0,
         "OMNIBUS": 0,
         "TRANVIA": 0,
         "CAMIONETA": 0,
         "CAMION": 0,
         "TRACTOR": 0,
         "FERROCARRI": 0,
         "MOTOCICLET": 0,
         "BICICLETA": 0,
         "OTROVEHIC": 0,
         "CAUSAACCI": "Certificado cero",
         "CAPAROD": "Certificado cero",
         "SEXO": "Certificado cero",
         "ALIENTO": "Certificado cero",
         "CINTURON": "Certificado cero",
         "edad": 0,
         "CONDMUERTO": 0,
         "CONDHERIDO": 0,
         "PASAMUERTO": 0,
         "PASAHERIDO": 0,
         "PEATMUERTO": 0,
         "PEATHERIDO": 0,
         "CICLMUERTO": 0,
         "CICLHERIDO": 0,
         "OTROMUERTO": 0,
         "OTROHERIDO": 0,
         "NEMUERTO": 0,
         "NEHERIDO": 0,
         "CLASACC": "Certificado cero",
         "ESTATUS": "Cifras Definitivas",
         "_deepnote_index_column": 43557
        },
        {
         "Entidad": "Chiapas",
         "Municipio ": "Huitiupán",
         "ANIO": 2019,
         "MES": 4,
         "Hora": 23,
         "Minuto": 0,
         "Día": 28,
         "DIASEMANA": "lunes",
         "URBANA": "Sin accidente en esta zona",
         "SUBURBANA": "Sin accidente en esta zona",
         "TIPACCID": "Certificado cero",
         "AUTOMOVIL": 0,
         "CAMPASAJ": 0,
         "MICROBUS": 0,
         "PASCAMION": 0,
         "OMNIBUS": 0,
         "TRANVIA": 0,
         "CAMIONETA": 0,
         "CAMION": 0,
         "TRACTOR": 0,
         "FERROCARRI": 0,
         "MOTOCICLET": 0,
         "BICICLETA": 0,
         "OTROVEHIC": 0,
         "CAUSAACCI": "Certificado cero",
         "CAPAROD": "Certificado cero",
         "SEXO": "Certificado cero",
         "ALIENTO": "Certificado cero",
         "CINTURON": "Certificado cero",
         "edad": 0,
         "CONDMUERTO": 0,
         "CONDHERIDO": 0,
         "PASAMUERTO": 0,
         "PASAHERIDO": 0,
         "PEATMUERTO": 0,
         "PEATHERIDO": 0,
         "CICLMUERTO": 0,
         "CICLHERIDO": 0,
         "OTROMUERTO": 0,
         "OTROHERIDO": 0,
         "NEMUERTO": 0,
         "NEHERIDO": 0,
         "CLASACC": "Certificado cero",
         "ESTATUS": "Cifras Definitivas",
         "_deepnote_index_column": 43558
        },
        {
         "Entidad": "Chiapas",
         "Municipio ": "Huitiupán",
         "ANIO": 2019,
         "MES": 5,
         "Hora": 23,
         "Minuto": 0,
         "Día": 28,
         "DIASEMANA": "lunes",
         "URBANA": "Sin accidente en esta zona",
         "SUBURBANA": "Sin accidente en esta zona",
         "TIPACCID": "Certificado cero",
         "AUTOMOVIL": 0,
         "CAMPASAJ": 0,
         "MICROBUS": 0,
         "PASCAMION": 0,
         "OMNIBUS": 0,
         "TRANVIA": 0,
         "CAMIONETA": 0,
         "CAMION": 0,
         "TRACTOR": 0,
         "FERROCARRI": 0,
         "MOTOCICLET": 0,
         "BICICLETA": 0,
         "OTROVEHIC": 0,
         "CAUSAACCI": "Certificado cero",
         "CAPAROD": "Certificado cero",
         "SEXO": "Certificado cero",
         "ALIENTO": "Certificado cero",
         "CINTURON": "Certificado cero",
         "edad": 0,
         "CONDMUERTO": 0,
         "CONDHERIDO": 0,
         "PASAMUERTO": 0,
         "PASAHERIDO": 0,
         "PEATMUERTO": 0,
         "PEATHERIDO": 0,
         "CICLMUERTO": 0,
         "CICLHERIDO": 0,
         "OTROMUERTO": 0,
         "OTROHERIDO": 0,
         "NEMUERTO": 0,
         "NEHERIDO": 0,
         "CLASACC": "Certificado cero",
         "ESTATUS": "Cifras Definitivas",
         "_deepnote_index_column": 43559
        },
        {
         "Entidad": "Chiapas",
         "Municipio ": "Huitiupán",
         "ANIO": 2019,
         "MES": 6,
         "Hora": 23,
         "Minuto": 0,
         "Día": 28,
         "DIASEMANA": "lunes",
         "URBANA": "Sin accidente en esta zona",
         "SUBURBANA": "Sin accidente en esta zona",
         "TIPACCID": "Certificado cero",
         "AUTOMOVIL": 0,
         "CAMPASAJ": 0,
         "MICROBUS": 0,
         "PASCAMION": 0,
         "OMNIBUS": 0,
         "TRANVIA": 0,
         "CAMIONETA": 0,
         "CAMION": 0,
         "TRACTOR": 0,
         "FERROCARRI": 0,
         "MOTOCICLET": 0,
         "BICICLETA": 0,
         "OTROVEHIC": 0,
         "CAUSAACCI": "Certificado cero",
         "CAPAROD": "Certificado cero",
         "SEXO": "Certificado cero",
         "ALIENTO": "Certificado cero",
         "CINTURON": "Certificado cero",
         "edad": 0,
         "CONDMUERTO": 0,
         "CONDHERIDO": 0,
         "PASAMUERTO": 0,
         "PASAHERIDO": 0,
         "PEATMUERTO": 0,
         "PEATHERIDO": 0,
         "CICLMUERTO": 0,
         "CICLHERIDO": 0,
         "OTROMUERTO": 0,
         "OTROHERIDO": 0,
         "NEMUERTO": 0,
         "NEHERIDO": 0,
         "CLASACC": "Certificado cero",
         "ESTATUS": "Cifras Definitivas",
         "_deepnote_index_column": 43560
        },
        {
         "Entidad": "Chiapas",
         "Municipio ": "Huitiupán",
         "ANIO": 2019,
         "MES": 7,
         "Hora": 23,
         "Minuto": 0,
         "Día": 28,
         "DIASEMANA": "lunes",
         "URBANA": "Sin accidente en esta zona",
         "SUBURBANA": "Sin accidente en esta zona",
         "TIPACCID": "Certificado cero",
         "AUTOMOVIL": 0,
         "CAMPASAJ": 0,
         "MICROBUS": 0,
         "PASCAMION": 0,
         "OMNIBUS": 0,
         "TRANVIA": 0,
         "CAMIONETA": 0,
         "CAMION": 0,
         "TRACTOR": 0,
         "FERROCARRI": 0,
         "MOTOCICLET": 0,
         "BICICLETA": 0,
         "OTROVEHIC": 0,
         "CAUSAACCI": "Certificado cero",
         "CAPAROD": "Certificado cero",
         "SEXO": "Certificado cero",
         "ALIENTO": "Certificado cero",
         "CINTURON": "Certificado cero",
         "edad": 0,
         "CONDMUERTO": 0,
         "CONDHERIDO": 0,
         "PASAMUERTO": 0,
         "PASAHERIDO": 0,
         "PEATMUERTO": 0,
         "PEATHERIDO": 0,
         "CICLMUERTO": 0,
         "CICLHERIDO": 0,
         "OTROMUERTO": 0,
         "OTROHERIDO": 0,
         "NEMUERTO": 0,
         "NEHERIDO": 0,
         "CLASACC": "Certificado cero",
         "ESTATUS": "Cifras Definitivas",
         "_deepnote_index_column": 43561
        },
        {
         "Entidad": "Chiapas",
         "Municipio ": "Huitiupán",
         "ANIO": 2019,
         "MES": 8,
         "Hora": 23,
         "Minuto": 0,
         "Día": 28,
         "DIASEMANA": "lunes",
         "URBANA": "Sin accidente en esta zona",
         "SUBURBANA": "Sin accidente en esta zona",
         "TIPACCID": "Certificado cero",
         "AUTOMOVIL": 0,
         "CAMPASAJ": 0,
         "MICROBUS": 0,
         "PASCAMION": 0,
         "OMNIBUS": 0,
         "TRANVIA": 0,
         "CAMIONETA": 0,
         "CAMION": 0,
         "TRACTOR": 0,
         "FERROCARRI": 0,
         "MOTOCICLET": 0,
         "BICICLETA": 0,
         "OTROVEHIC": 0,
         "CAUSAACCI": "Certificado cero",
         "CAPAROD": "Certificado cero",
         "SEXO": "Certificado cero",
         "ALIENTO": "Certificado cero",
         "CINTURON": "Certificado cero",
         "edad": 0,
         "CONDMUERTO": 0,
         "CONDHERIDO": 0,
         "PASAMUERTO": 0,
         "PASAHERIDO": 0,
         "PEATMUERTO": 0,
         "PEATHERIDO": 0,
         "CICLMUERTO": 0,
         "CICLHERIDO": 0,
         "OTROMUERTO": 0,
         "OTROHERIDO": 0,
         "NEMUERTO": 0,
         "NEHERIDO": 0,
         "CLASACC": "Certificado cero",
         "ESTATUS": "Cifras Definitivas",
         "_deepnote_index_column": 43562
        },
        {
         "Entidad": "Chiapas",
         "Municipio ": "Huitiupán",
         "ANIO": 2019,
         "MES": 9,
         "Hora": 23,
         "Minuto": 0,
         "Día": 28,
         "DIASEMANA": "lunes",
         "URBANA": "Sin accidente en esta zona",
         "SUBURBANA": "Sin accidente en esta zona",
         "TIPACCID": "Certificado cero",
         "AUTOMOVIL": 0,
         "CAMPASAJ": 0,
         "MICROBUS": 0,
         "PASCAMION": 0,
         "OMNIBUS": 0,
         "TRANVIA": 0,
         "CAMIONETA": 0,
         "CAMION": 0,
         "TRACTOR": 0,
         "FERROCARRI": 0,
         "MOTOCICLET": 0,
         "BICICLETA": 0,
         "OTROVEHIC": 0,
         "CAUSAACCI": "Certificado cero",
         "CAPAROD": "Certificado cero",
         "SEXO": "Certificado cero",
         "ALIENTO": "Certificado cero",
         "CINTURON": "Certificado cero",
         "edad": 0,
         "CONDMUERTO": 0,
         "CONDHERIDO": 0,
         "PASAMUERTO": 0,
         "PASAHERIDO": 0,
         "PEATMUERTO": 0,
         "PEATHERIDO": 0,
         "CICLMUERTO": 0,
         "CICLHERIDO": 0,
         "OTROMUERTO": 0,
         "OTROHERIDO": 0,
         "NEMUERTO": 0,
         "NEHERIDO": 0,
         "CLASACC": "Certificado cero",
         "ESTATUS": "Cifras Definitivas",
         "_deepnote_index_column": 43563
        },
        {
         "Entidad": "Chiapas",
         "Municipio ": "Huitiupán",
         "ANIO": 2019,
         "MES": 10,
         "Hora": 23,
         "Minuto": 0,
         "Día": 28,
         "DIASEMANA": "lunes",
         "URBANA": "Sin accidente en esta zona",
         "SUBURBANA": "Sin accidente en esta zona",
         "TIPACCID": "Certificado cero",
         "AUTOMOVIL": 0,
         "CAMPASAJ": 0,
         "MICROBUS": 0,
         "PASCAMION": 0,
         "OMNIBUS": 0,
         "TRANVIA": 0,
         "CAMIONETA": 0,
         "CAMION": 0,
         "TRACTOR": 0,
         "FERROCARRI": 0,
         "MOTOCICLET": 0,
         "BICICLETA": 0,
         "OTROVEHIC": 0,
         "CAUSAACCI": "Certificado cero",
         "CAPAROD": "Certificado cero",
         "SEXO": "Certificado cero",
         "ALIENTO": "Certificado cero",
         "CINTURON": "Certificado cero",
         "edad": 0,
         "CONDMUERTO": 0,
         "CONDHERIDO": 0,
         "PASAMUERTO": 0,
         "PASAHERIDO": 0,
         "PEATMUERTO": 0,
         "PEATHERIDO": 0,
         "CICLMUERTO": 0,
         "CICLHERIDO": 0,
         "OTROMUERTO": 0,
         "OTROHERIDO": 0,
         "NEMUERTO": 0,
         "NEHERIDO": 0,
         "CLASACC": "Certificado cero",
         "ESTATUS": "Cifras Definitivas",
         "_deepnote_index_column": 43564
        }
       ]
      },
      "text/plain": "          Entidad Municipio   ANIO  MES  Hora  Minuto  Día  DIASEMANA  \\\n43555     Chiapas  Huitiupán  2019    1    23       0   28      lunes   \n43556     Chiapas  Huitiupán  2019    2    23       0   28      lunes   \n43557     Chiapas  Huitiupán  2019    3    23       0   28      lunes   \n43558     Chiapas  Huitiupán  2019    4    23       0   28      lunes   \n43559     Chiapas  Huitiupán  2019    5    23       0   28      lunes   \n...           ...        ...   ...  ...   ...     ...  ...        ...   \n377778  Zacatecas  Huitiupán  2019   12    11      55   23      lunes   \n377779  Zacatecas  Huitiupán  2019   12     1      55   25  Miercoles   \n377780  Zacatecas  Huitiupán  2019   12    18      15   25  Miercoles   \n377781  Zacatecas  Huitiupán  2019   12    20      35   25  Miercoles   \n377782  Zacatecas  Huitiupán  2019   12    15      30   26     Jueves   \n\n                            URBANA                       SUBURBANA  ...  \\\n43555   Sin accidente en esta zona      Sin accidente en esta zona  ...   \n43556   Sin accidente en esta zona      Sin accidente en esta zona  ...   \n43557   Sin accidente en esta zona      Sin accidente en esta zona  ...   \n43558   Sin accidente en esta zona      Sin accidente en esta zona  ...   \n43559   Sin accidente en esta zona      Sin accidente en esta zona  ...   \n...                            ...                             ...  ...   \n377778   Accidente en intersección      Sin accidente en esta zona  ...   \n377779   Accidente en intersección      Sin accidente en esta zona  ...   \n377780  Sin accidente en esta zona  Accidente en carretera estatal  ...   \n377781  Sin accidente en esta zona       Accidentes en otro camino  ...   \n377782  Sin accidente en esta zona  Accidente en carretera estatal  ...   \n\n       PEATMUERTO  PEATHERIDO  CICLMUERTO  CICLHERIDO  OTROMUERTO  OTROHERIDO  \\\n43555           0           0           0           0           0           0   \n43556           0           0           0           0           0           0   \n43557           0           0           0           0           0           0   \n43558           0           0           0           0           0           0   \n43559           0           0           0           0           0           0   \n...           ...         ...         ...         ...         ...         ...   \n377778          0           0           0           0           0           0   \n377779          0           0           0           0           0           0   \n377780          0           0           0           0           0           0   \n377781          0           0           0           0           0           0   \n377782          0           0           0           1           0           0   \n\n        NEMUERTO  NEHERIDO           CLASACC             ESTATUS  \n43555          0         0  Certificado cero  Cifras Definitivas  \n43556          0         0  Certificado cero  Cifras Definitivas  \n43557          0         0  Certificado cero  Cifras Definitivas  \n43558          0         0  Certificado cero  Cifras Definitivas  \n43559          0         0  Certificado cero  Cifras Definitivas  \n...          ...       ...               ...                 ...  \n377778         0         0        Sólo daños  Cifras Definitivas  \n377779         0         0        Sólo daños  Cifras Definitivas  \n377780         0         0          No fatal  Cifras Definitivas  \n377781         0         0          No fatal  Cifras Definitivas  \n377782         0         0          No fatal  Cifras Definitivas  \n\n[40851 rows x 44 columns]",
      "text/html": "<div>\n<style scoped>\n    .dataframe tbody tr th:only-of-type {\n        vertical-align: middle;\n    }\n\n    .dataframe tbody tr th {\n        vertical-align: top;\n    }\n\n    .dataframe thead th {\n        text-align: right;\n    }\n</style>\n<table border=\"1\" class=\"dataframe\">\n  <thead>\n    <tr style=\"text-align: right;\">\n      <th></th>\n      <th>Entidad</th>\n      <th>Municipio</th>\n      <th>ANIO</th>\n      <th>MES</th>\n      <th>Hora</th>\n      <th>Minuto</th>\n      <th>Día</th>\n      <th>DIASEMANA</th>\n      <th>URBANA</th>\n      <th>SUBURBANA</th>\n      <th>...</th>\n      <th>PEATMUERTO</th>\n      <th>PEATHERIDO</th>\n      <th>CICLMUERTO</th>\n      <th>CICLHERIDO</th>\n      <th>OTROMUERTO</th>\n      <th>OTROHERIDO</th>\n      <th>NEMUERTO</th>\n      <th>NEHERIDO</th>\n      <th>CLASACC</th>\n      <th>ESTATUS</th>\n    </tr>\n  </thead>\n  <tbody>\n    <tr>\n      <th>43555</th>\n      <td>Chiapas</td>\n      <td>Huitiupán</td>\n      <td>2019</td>\n      <td>1</td>\n      <td>23</td>\n      <td>0</td>\n      <td>28</td>\n      <td>lunes</td>\n      <td>Sin accidente en esta zona</td>\n      <td>Sin accidente en esta zona</td>\n      <td>...</td>\n      <td>0</td>\n      <td>0</td>\n      <td>0</td>\n      <td>0</td>\n      <td>0</td>\n      <td>0</td>\n      <td>0</td>\n      <td>0</td>\n      <td>Certificado cero</td>\n      <td>Cifras Definitivas</td>\n    </tr>\n    <tr>\n      <th>43556</th>\n      <td>Chiapas</td>\n      <td>Huitiupán</td>\n      <td>2019</td>\n      <td>2</td>\n      <td>23</td>\n      <td>0</td>\n      <td>28</td>\n      <td>lunes</td>\n      <td>Sin accidente en esta zona</td>\n      <td>Sin accidente en esta zona</td>\n      <td>...</td>\n      <td>0</td>\n      <td>0</td>\n      <td>0</td>\n      <td>0</td>\n      <td>0</td>\n      <td>0</td>\n      <td>0</td>\n      <td>0</td>\n      <td>Certificado cero</td>\n      <td>Cifras Definitivas</td>\n    </tr>\n    <tr>\n      <th>43557</th>\n      <td>Chiapas</td>\n      <td>Huitiupán</td>\n      <td>2019</td>\n      <td>3</td>\n      <td>23</td>\n      <td>0</td>\n      <td>28</td>\n      <td>lunes</td>\n      <td>Sin accidente en esta zona</td>\n      <td>Sin accidente en esta zona</td>\n      <td>...</td>\n      <td>0</td>\n      <td>0</td>\n      <td>0</td>\n      <td>0</td>\n      <td>0</td>\n      <td>0</td>\n      <td>0</td>\n      <td>0</td>\n      <td>Certificado cero</td>\n      <td>Cifras Definitivas</td>\n    </tr>\n    <tr>\n      <th>43558</th>\n      <td>Chiapas</td>\n      <td>Huitiupán</td>\n      <td>2019</td>\n      <td>4</td>\n      <td>23</td>\n      <td>0</td>\n      <td>28</td>\n      <td>lunes</td>\n      <td>Sin accidente en esta zona</td>\n      <td>Sin accidente en esta zona</td>\n      <td>...</td>\n      <td>0</td>\n      <td>0</td>\n      <td>0</td>\n      <td>0</td>\n      <td>0</td>\n      <td>0</td>\n      <td>0</td>\n      <td>0</td>\n      <td>Certificado cero</td>\n      <td>Cifras Definitivas</td>\n    </tr>\n    <tr>\n      <th>43559</th>\n      <td>Chiapas</td>\n      <td>Huitiupán</td>\n      <td>2019</td>\n      <td>5</td>\n      <td>23</td>\n      <td>0</td>\n      <td>28</td>\n      <td>lunes</td>\n      <td>Sin accidente en esta zona</td>\n      <td>Sin accidente en esta zona</td>\n      <td>...</td>\n      <td>0</td>\n      <td>0</td>\n      <td>0</td>\n      <td>0</td>\n      <td>0</td>\n      <td>0</td>\n      <td>0</td>\n      <td>0</td>\n      <td>Certificado cero</td>\n      <td>Cifras Definitivas</td>\n    </tr>\n    <tr>\n      <th>...</th>\n      <td>...</td>\n      <td>...</td>\n      <td>...</td>\n      <td>...</td>\n      <td>...</td>\n      <td>...</td>\n      <td>...</td>\n      <td>...</td>\n      <td>...</td>\n      <td>...</td>\n      <td>...</td>\n      <td>...</td>\n      <td>...</td>\n      <td>...</td>\n      <td>...</td>\n      <td>...</td>\n      <td>...</td>\n      <td>...</td>\n      <td>...</td>\n      <td>...</td>\n      <td>...</td>\n    </tr>\n    <tr>\n      <th>377778</th>\n      <td>Zacatecas</td>\n      <td>Huitiupán</td>\n      <td>2019</td>\n      <td>12</td>\n      <td>11</td>\n      <td>55</td>\n      <td>23</td>\n      <td>lunes</td>\n      <td>Accidente en intersección</td>\n      <td>Sin accidente en esta zona</td>\n      <td>...</td>\n      <td>0</td>\n      <td>0</td>\n      <td>0</td>\n      <td>0</td>\n      <td>0</td>\n      <td>0</td>\n      <td>0</td>\n      <td>0</td>\n      <td>Sólo daños</td>\n      <td>Cifras Definitivas</td>\n    </tr>\n    <tr>\n      <th>377779</th>\n      <td>Zacatecas</td>\n      <td>Huitiupán</td>\n      <td>2019</td>\n      <td>12</td>\n      <td>1</td>\n      <td>55</td>\n      <td>25</td>\n      <td>Miercoles</td>\n      <td>Accidente en intersección</td>\n      <td>Sin accidente en esta zona</td>\n      <td>...</td>\n      <td>0</td>\n      <td>0</td>\n      <td>0</td>\n      <td>0</td>\n      <td>0</td>\n      <td>0</td>\n      <td>0</td>\n      <td>0</td>\n      <td>Sólo daños</td>\n      <td>Cifras Definitivas</td>\n    </tr>\n    <tr>\n      <th>377780</th>\n      <td>Zacatecas</td>\n      <td>Huitiupán</td>\n      <td>2019</td>\n      <td>12</td>\n      <td>18</td>\n      <td>15</td>\n      <td>25</td>\n      <td>Miercoles</td>\n      <td>Sin accidente en esta zona</td>\n      <td>Accidente en carretera estatal</td>\n      <td>...</td>\n      <td>0</td>\n      <td>0</td>\n      <td>0</td>\n      <td>0</td>\n      <td>0</td>\n      <td>0</td>\n      <td>0</td>\n      <td>0</td>\n      <td>No fatal</td>\n      <td>Cifras Definitivas</td>\n    </tr>\n    <tr>\n      <th>377781</th>\n      <td>Zacatecas</td>\n      <td>Huitiupán</td>\n      <td>2019</td>\n      <td>12</td>\n      <td>20</td>\n      <td>35</td>\n      <td>25</td>\n      <td>Miercoles</td>\n      <td>Sin accidente en esta zona</td>\n      <td>Accidentes en otro camino</td>\n      <td>...</td>\n      <td>0</td>\n      <td>0</td>\n      <td>0</td>\n      <td>0</td>\n      <td>0</td>\n      <td>0</td>\n      <td>0</td>\n      <td>0</td>\n      <td>No fatal</td>\n      <td>Cifras Definitivas</td>\n    </tr>\n    <tr>\n      <th>377782</th>\n      <td>Zacatecas</td>\n      <td>Huitiupán</td>\n      <td>2019</td>\n      <td>12</td>\n      <td>15</td>\n      <td>30</td>\n      <td>26</td>\n      <td>Jueves</td>\n      <td>Sin accidente en esta zona</td>\n      <td>Accidente en carretera estatal</td>\n      <td>...</td>\n      <td>0</td>\n      <td>0</td>\n      <td>0</td>\n      <td>1</td>\n      <td>0</td>\n      <td>0</td>\n      <td>0</td>\n      <td>0</td>\n      <td>No fatal</td>\n      <td>Cifras Definitivas</td>\n    </tr>\n  </tbody>\n</table>\n<p>40851 rows × 44 columns</p>\n</div>"
     },
     "metadata": {}
    }
   ],
   "execution_count": null
  },
  {
   "cell_type": "markdown",
   "source": "- El municipio con más accidentes es Huitiupán con 40,851 y esta ubicado en Chiapas",
   "metadata": {
    "cell_id": "8c8b00b9f55149908968239924978db9",
    "tags": [],
    "deepnote_cell_type": "markdown",
    "deepnote_cell_height": 69.390625
   },
   "outputs": [],
   "execution_count": null
  },
  {
   "cell_type": "code",
   "source": "df['DIASEMANA'].value_counts().sort_values(ascending=False)",
   "metadata": {
    "cell_id": "fe7dbeeaa01a47efa26be5d7236c97f6",
    "tags": [],
    "deepnote_to_be_reexecuted": false,
    "source_hash": "f101934e",
    "execution_start": 1648313988151,
    "execution_millis": 29,
    "deepnote_cell_type": "code",
    "deepnote_cell_height": 252.578125,
    "deepnote_output_heights": [
     155.59375
    ]
   },
   "outputs": [
    {
     "output_type": "execute_result",
     "execution_count": 46,
     "data": {
      "text/plain": "lunes        67297\nSabado       57538\nViernes      55605\nDomingo      51471\nMartes       49677\nJueves       49173\nMiercoles    48053\nName: DIASEMANA, dtype: int64"
     },
     "metadata": {}
    }
   ],
   "execution_count": null
  },
  {
   "cell_type": "code",
   "source": "x = df['DIASEMANA'].value_counts().sort_values(ascending=False).index\ny = df['DIASEMANA'].value_counts().sort_values(ascending=False).values",
   "metadata": {
    "cell_id": "3fba336ccbac42659c2e64e8f4674084",
    "tags": [],
    "deepnote_to_be_reexecuted": false,
    "source_hash": "240c198f",
    "execution_start": 1648313999604,
    "execution_millis": 52,
    "deepnote_cell_type": "code",
    "deepnote_cell_height": 99
   },
   "outputs": [],
   "execution_count": null
  },
  {
   "cell_type": "code",
   "source": "plt.bar(x,y)\nplt.show()",
   "metadata": {
    "cell_id": "df8f05c154364046abb28e2104cc1b1a",
    "tags": [],
    "deepnote_to_be_reexecuted": false,
    "source_hash": "7dfb399d",
    "execution_start": 1648314030605,
    "execution_millis": 403,
    "deepnote_cell_type": "code",
    "deepnote_cell_height": 367,
    "deepnote_output_heights": [
     252
    ]
   },
   "outputs": [
    {
     "data": {
      "text/plain": "<Figure size 432x288 with 1 Axes>",
      "image/png": "[encoded data removed]"
     },
     "metadata": {
      "needs_background": "light",
      "image/png": {
       "width": 387,
       "height": 250
      }
     },
     "output_type": "display_data"
    }
   ],
   "execution_count": null
  },
  {
   "cell_type": "markdown",
   "source": "- El día con más accidentes es el **Lunes** con 67,297 accidentes",
   "metadata": {
    "cell_id": "b12c0286a8ee4ac19d01d5e142668929",
    "tags": [],
    "deepnote_cell_type": "markdown",
    "deepnote_cell_height": 69.390625
   },
   "outputs": [],
   "execution_count": null
  },
  {
   "cell_type": "code",
   "source": "df.head()",
   "metadata": {
    "cell_id": "1fdc7de523f541eba1541d7ef35081ab",
    "tags": [],
    "deepnote_to_be_reexecuted": false,
    "source_hash": "c085b6ba",
    "execution_start": 1648314136615,
    "execution_millis": 382,
    "deepnote_cell_type": "code",
    "deepnote_cell_height": 409.796875
   },
   "outputs": [
    {
     "output_type": "execute_result",
     "execution_count": 50,
     "data": {
      "application/vnd.deepnote.dataframe.v3+json": {
       "column_count": 44,
       "row_count": 5,
       "columns": [
        {
         "name": "Entidad",
         "dtype": "object",
         "stats": {
          "unique_count": 1,
          "nan_count": 0,
          "categories": [
           {
            "name": "Aguascalientes",
            "count": 5
           }
          ]
         }
        },
        {
         "name": "Municipio ",
         "dtype": "object",
         "stats": {
          "unique_count": 1,
          "nan_count": 0,
          "categories": [
           {
            "name": "Aguascalientes",
            "count": 5
           }
          ]
         }
        },
        {
         "name": "ANIO",
         "dtype": "int64",
         "stats": {
          "unique_count": 1,
          "nan_count": 0,
          "min": "2019",
          "max": "2019",
          "histogram": [
           {
            "bin_start": 2018.5,
            "bin_end": 2018.6,
            "count": 0
           },
           {
            "bin_start": 2018.6,
            "bin_end": 2018.7,
            "count": 0
           },
           {
            "bin_start": 2018.7,
            "bin_end": 2018.8,
            "count": 0
           },
           {
            "bin_start": 2018.8,
            "bin_end": 2018.9,
            "count": 0
           },
           {
            "bin_start": 2018.9,
            "bin_end": 2019,
            "count": 0
           },
           {
            "bin_start": 2019,
            "bin_end": 2019.1,
            "count": 5
           },
           {
            "bin_start": 2019.1,
            "bin_end": 2019.2,
            "count": 0
           },
           {
            "bin_start": 2019.2,
            "bin_end": 2019.3,
            "count": 0
           },
           {
            "bin_start": 2019.3,
            "bin_end": 2019.4,
            "count": 0
           },
           {
            "bin_start": 2019.4,
            "bin_end": 2019.5,
            "count": 0
           }
          ]
         }
        },
        {
         "name": "MES",
         "dtype": "int64",
         "stats": {
          "unique_count": 1,
          "nan_count": 0,
          "min": "1",
          "max": "1",
          "histogram": [
           {
            "bin_start": 0.5,
            "bin_end": 0.6,
            "count": 0
           },
           {
            "bin_start": 0.6,
            "bin_end": 0.7,
            "count": 0
           },
           {
            "bin_start": 0.7,
            "bin_end": 0.8,
            "count": 0
           },
           {
            "bin_start": 0.8,
            "bin_end": 0.9,
            "count": 0
           },
           {
            "bin_start": 0.9,
            "bin_end": 1,
            "count": 0
           },
           {
            "bin_start": 1,
            "bin_end": 1.1,
            "count": 5
           },
           {
            "bin_start": 1.1,
            "bin_end": 1.2000000000000002,
            "count": 0
           },
           {
            "bin_start": 1.2000000000000002,
            "bin_end": 1.3,
            "count": 0
           },
           {
            "bin_start": 1.3,
            "bin_end": 1.4,
            "count": 0
           },
           {
            "bin_start": 1.4,
            "bin_end": 1.5,
            "count": 0
           }
          ]
         }
        },
        {
         "name": "Hora",
         "dtype": "int64",
         "stats": {
          "unique_count": 5,
          "nan_count": 0,
          "min": "1",
          "max": "8",
          "histogram": [
           {
            "bin_start": 1,
            "bin_end": 1.7,
            "count": 1
           },
           {
            "bin_start": 1.7,
            "bin_end": 2.4,
            "count": 0
           },
           {
            "bin_start": 2.4,
            "bin_end": 3.0999999999999996,
            "count": 1
           },
           {
            "bin_start": 3.0999999999999996,
            "bin_end": 3.8,
            "count": 0
           },
           {
            "bin_start": 3.8,
            "bin_end": 4.5,
            "count": 0
           },
           {
            "bin_start": 4.5,
            "bin_end": 5.199999999999999,
            "count": 1
           },
           {
            "bin_start": 5.199999999999999,
            "bin_end": 5.8999999999999995,
            "count": 0
           },
           {
            "bin_start": 5.8999999999999995,
            "bin_end": 6.6,
            "count": 1
           },
           {
            "bin_start": 6.6,
            "bin_end": 7.3,
            "count": 0
           },
           {
            "bin_start": 7.3,
            "bin_end": 8,
            "count": 1
           }
          ]
         }
        },
        {
         "name": "Minuto",
         "dtype": "int64",
         "stats": {
          "unique_count": 4,
          "nan_count": 0,
          "min": "5",
          "max": "53",
          "histogram": [
           {
            "bin_start": 5,
            "bin_end": 9.8,
            "count": 1
           },
           {
            "bin_start": 9.8,
            "bin_end": 14.6,
            "count": 0
           },
           {
            "bin_start": 14.6,
            "bin_end": 19.4,
            "count": 0
           },
           {
            "bin_start": 19.4,
            "bin_end": 24.2,
            "count": 0
           },
           {
            "bin_start": 24.2,
            "bin_end": 29,
            "count": 0
           },
           {
            "bin_start": 29,
            "bin_end": 33.8,
            "count": 0
           },
           {
            "bin_start": 33.8,
            "bin_end": 38.6,
            "count": 1
           },
           {
            "bin_start": 38.6,
            "bin_end": 43.4,
            "count": 0
           },
           {
            "bin_start": 43.4,
            "bin_end": 48.199999999999996,
            "count": 0
           },
           {
            "bin_start": 48.199999999999996,
            "bin_end": 53,
            "count": 3
           }
          ]
         }
        },
        {
         "name": "Día",
         "dtype": "int64",
         "stats": {
          "unique_count": 1,
          "nan_count": 0,
          "min": "1",
          "max": "1",
          "histogram": [
           {
            "bin_start": 0.5,
            "bin_end": 0.6,
            "count": 0
           },
           {
            "bin_start": 0.6,
            "bin_end": 0.7,
            "count": 0
           },
           {
            "bin_start": 0.7,
            "bin_end": 0.8,
            "count": 0
           },
           {
            "bin_start": 0.8,
            "bin_end": 0.9,
            "count": 0
           },
           {
            "bin_start": 0.9,
            "bin_end": 1,
            "count": 0
           },
           {
            "bin_start": 1,
            "bin_end": 1.1,
            "count": 5
           },
           {
            "bin_start": 1.1,
            "bin_end": 1.2000000000000002,
            "count": 0
           },
           {
            "bin_start": 1.2000000000000002,
            "bin_end": 1.3,
            "count": 0
           },
           {
            "bin_start": 1.3,
            "bin_end": 1.4,
            "count": 0
           },
           {
            "bin_start": 1.4,
            "bin_end": 1.5,
            "count": 0
           }
          ]
         }
        },
        {
         "name": "DIASEMANA",
         "dtype": "object",
         "stats": {
          "unique_count": 1,
          "nan_count": 0,
          "categories": [
           {
            "name": "Martes",
            "count": 5
           }
          ]
         }
        },
        {
         "name": "URBANA",
         "dtype": "object",
         "stats": {
          "unique_count": 1,
          "nan_count": 0,
          "categories": [
           {
            "name": "Accidente en intersección",
            "count": 5
           }
          ]
         }
        },
        {
         "name": "SUBURBANA",
         "dtype": "object",
         "stats": {
          "unique_count": 1,
          "nan_count": 0,
          "categories": [
           {
            "name": "Sin accidente en esta zona",
            "count": 5
           }
          ]
         }
        },
        {
         "name": "TIPACCID",
         "dtype": "object",
         "stats": {
          "unique_count": 2,
          "nan_count": 0,
          "categories": [
           {
            "name": "Colisión con vehículo automotor",
            "count": 3
           },
           {
            "name": "Colisión con objeto fijo",
            "count": 2
           }
          ]
         }
        },
        {
         "name": "AUTOMOVIL",
         "dtype": "int64",
         "stats": {
          "unique_count": 4,
          "nan_count": 0,
          "min": "0",
          "max": "4",
          "histogram": [
           {
            "bin_start": 0,
            "bin_end": 0.4,
            "count": 2
           },
           {
            "bin_start": 0.4,
            "bin_end": 0.8,
            "count": 0
           },
           {
            "bin_start": 0.8,
            "bin_end": 1.2000000000000002,
            "count": 1
           },
           {
            "bin_start": 1.2000000000000002,
            "bin_end": 1.6,
            "count": 0
           },
           {
            "bin_start": 1.6,
            "bin_end": 2,
            "count": 0
           },
           {
            "bin_start": 2,
            "bin_end": 2.4000000000000004,
            "count": 1
           },
           {
            "bin_start": 2.4000000000000004,
            "bin_end": 2.8000000000000003,
            "count": 0
           },
           {
            "bin_start": 2.8000000000000003,
            "bin_end": 3.2,
            "count": 0
           },
           {
            "bin_start": 3.2,
            "bin_end": 3.6,
            "count": 0
           },
           {
            "bin_start": 3.6,
            "bin_end": 4,
            "count": 1
           }
          ]
         }
        },
        {
         "name": "CAMPASAJ",
         "dtype": "int64",
         "stats": {
          "unique_count": 2,
          "nan_count": 0,
          "min": "0",
          "max": "1",
          "histogram": [
           {
            "bin_start": 0,
            "bin_end": 0.1,
            "count": 2
           },
           {
            "bin_start": 0.1,
            "bin_end": 0.2,
            "count": 0
           },
           {
            "bin_start": 0.2,
            "bin_end": 0.30000000000000004,
            "count": 0
           },
           {
            "bin_start": 0.30000000000000004,
            "bin_end": 0.4,
            "count": 0
           },
           {
            "bin_start": 0.4,
            "bin_end": 0.5,
            "count": 0
           },
           {
            "bin_start": 0.5,
            "bin_end": 0.6000000000000001,
            "count": 0
           },
           {
            "bin_start": 0.6000000000000001,
            "bin_end": 0.7000000000000001,
            "count": 0
           },
           {
            "bin_start": 0.7000000000000001,
            "bin_end": 0.8,
            "count": 0
           },
           {
            "bin_start": 0.8,
            "bin_end": 0.9,
            "count": 0
           },
           {
            "bin_start": 0.9,
            "bin_end": 1,
            "count": 3
           }
          ]
         }
        },
        {
         "name": "MICROBUS",
         "dtype": "int64",
         "stats": {
          "unique_count": 1,
          "nan_count": 0,
          "min": "0",
          "max": "0",
          "histogram": [
           {
            "bin_start": -0.5,
            "bin_end": -0.4,
            "count": 0
           },
           {
            "bin_start": -0.4,
            "bin_end": -0.3,
            "count": 0
           },
           {
            "bin_start": -0.3,
            "bin_end": -0.19999999999999996,
            "count": 0
           },
           {
            "bin_start": -0.19999999999999996,
            "bin_end": -0.09999999999999998,
            "count": 0
           },
           {
            "bin_start": -0.09999999999999998,
            "bin_end": 0,
            "count": 0
           },
           {
            "bin_start": 0,
            "bin_end": 0.10000000000000009,
            "count": 5
           },
           {
            "bin_start": 0.10000000000000009,
            "bin_end": 0.20000000000000007,
            "count": 0
           },
           {
            "bin_start": 0.20000000000000007,
            "bin_end": 0.30000000000000004,
            "count": 0
           },
           {
            "bin_start": 0.30000000000000004,
            "bin_end": 0.4,
            "count": 0
           },
           {
            "bin_start": 0.4,
            "bin_end": 0.5,
            "count": 0
           }
          ]
         }
        },
        {
         "name": "PASCAMION",
         "dtype": "int64",
         "stats": {
          "unique_count": 1,
          "nan_count": 0,
          "min": "0",
          "max": "0",
          "histogram": [
           {
            "bin_start": -0.5,
            "bin_end": -0.4,
            "count": 0
           },
           {
            "bin_start": -0.4,
            "bin_end": -0.3,
            "count": 0
           },
           {
            "bin_start": -0.3,
            "bin_end": -0.19999999999999996,
            "count": 0
           },
           {
            "bin_start": -0.19999999999999996,
            "bin_end": -0.09999999999999998,
            "count": 0
           },
           {
            "bin_start": -0.09999999999999998,
            "bin_end": 0,
            "count": 0
           },
           {
            "bin_start": 0,
            "bin_end": 0.10000000000000009,
            "count": 5
           },
           {
            "bin_start": 0.10000000000000009,
            "bin_end": 0.20000000000000007,
            "count": 0
           },
           {
            "bin_start": 0.20000000000000007,
            "bin_end": 0.30000000000000004,
            "count": 0
           },
           {
            "bin_start": 0.30000000000000004,
            "bin_end": 0.4,
            "count": 0
           },
           {
            "bin_start": 0.4,
            "bin_end": 0.5,
            "count": 0
           }
          ]
         }
        },
        {
         "name": "OMNIBUS",
         "dtype": "int64",
         "stats": {
          "unique_count": 1,
          "nan_count": 0,
          "min": "0",
          "max": "0",
          "histogram": [
           {
            "bin_start": -0.5,
            "bin_end": -0.4,
            "count": 0
           },
           {
            "bin_start": -0.4,
            "bin_end": -0.3,
            "count": 0
           },
           {
            "bin_start": -0.3,
            "bin_end": -0.19999999999999996,
            "count": 0
           },
           {
            "bin_start": -0.19999999999999996,
            "bin_end": -0.09999999999999998,
            "count": 0
           },
           {
            "bin_start": -0.09999999999999998,
            "bin_end": 0,
            "count": 0
           },
           {
            "bin_start": 0,
            "bin_end": 0.10000000000000009,
            "count": 5
           },
           {
            "bin_start": 0.10000000000000009,
            "bin_end": 0.20000000000000007,
            "count": 0
           },
           {
            "bin_start": 0.20000000000000007,
            "bin_end": 0.30000000000000004,
            "count": 0
           },
           {
            "bin_start": 0.30000000000000004,
            "bin_end": 0.4,
            "count": 0
           },
           {
            "bin_start": 0.4,
            "bin_end": 0.5,
            "count": 0
           }
          ]
         }
        },
        {
         "name": "TRANVIA",
         "dtype": "int64",
         "stats": {
          "unique_count": 1,
          "nan_count": 0,
          "min": "0",
          "max": "0",
          "histogram": [
           {
            "bin_start": -0.5,
            "bin_end": -0.4,
            "count": 0
           },
           {
            "bin_start": -0.4,
            "bin_end": -0.3,
            "count": 0
           },
           {
            "bin_start": -0.3,
            "bin_end": -0.19999999999999996,
            "count": 0
           },
           {
            "bin_start": -0.19999999999999996,
            "bin_end": -0.09999999999999998,
            "count": 0
           },
           {
            "bin_start": -0.09999999999999998,
            "bin_end": 0,
            "count": 0
           },
           {
            "bin_start": 0,
            "bin_end": 0.10000000000000009,
            "count": 5
           },
           {
            "bin_start": 0.10000000000000009,
            "bin_end": 0.20000000000000007,
            "count": 0
           },
           {
            "bin_start": 0.20000000000000007,
            "bin_end": 0.30000000000000004,
            "count": 0
           },
           {
            "bin_start": 0.30000000000000004,
            "bin_end": 0.4,
            "count": 0
           },
           {
            "bin_start": 0.4,
            "bin_end": 0.5,
            "count": 0
           }
          ]
         }
        },
        {
         "name": "CAMIONETA",
         "dtype": "int64",
         "stats": {
          "unique_count": 2,
          "nan_count": 0,
          "min": "0",
          "max": "1",
          "histogram": [
           {
            "bin_start": 0,
            "bin_end": 0.1,
            "count": 4
           },
           {
            "bin_start": 0.1,
            "bin_end": 0.2,
            "count": 0
           },
           {
            "bin_start": 0.2,
            "bin_end": 0.30000000000000004,
            "count": 0
           },
           {
            "bin_start": 0.30000000000000004,
            "bin_end": 0.4,
            "count": 0
           },
           {
            "bin_start": 0.4,
            "bin_end": 0.5,
            "count": 0
           },
           {
            "bin_start": 0.5,
            "bin_end": 0.6000000000000001,
            "count": 0
           },
           {
            "bin_start": 0.6000000000000001,
            "bin_end": 0.7000000000000001,
            "count": 0
           },
           {
            "bin_start": 0.7000000000000001,
            "bin_end": 0.8,
            "count": 0
           },
           {
            "bin_start": 0.8,
            "bin_end": 0.9,
            "count": 0
           },
           {
            "bin_start": 0.9,
            "bin_end": 1,
            "count": 1
           }
          ]
         }
        },
        {
         "name": "CAMION",
         "dtype": "int64",
         "stats": {
          "unique_count": 1,
          "nan_count": 0,
          "min": "0",
          "max": "0",
          "histogram": [
           {
            "bin_start": -0.5,
            "bin_end": -0.4,
            "count": 0
           },
           {
            "bin_start": -0.4,
            "bin_end": -0.3,
            "count": 0
           },
           {
            "bin_start": -0.3,
            "bin_end": -0.19999999999999996,
            "count": 0
           },
           {
            "bin_start": -0.19999999999999996,
            "bin_end": -0.09999999999999998,
            "count": 0
           },
           {
            "bin_start": -0.09999999999999998,
            "bin_end": 0,
            "count": 0
           },
           {
            "bin_start": 0,
            "bin_end": 0.10000000000000009,
            "count": 5
           },
           {
            "bin_start": 0.10000000000000009,
            "bin_end": 0.20000000000000007,
            "count": 0
           },
           {
            "bin_start": 0.20000000000000007,
            "bin_end": 0.30000000000000004,
            "count": 0
           },
           {
            "bin_start": 0.30000000000000004,
            "bin_end": 0.4,
            "count": 0
           },
           {
            "bin_start": 0.4,
            "bin_end": 0.5,
            "count": 0
           }
          ]
         }
        },
        {
         "name": "TRACTOR",
         "dtype": "int64",
         "stats": {
          "unique_count": 1,
          "nan_count": 0,
          "min": "0",
          "max": "0",
          "histogram": [
           {
            "bin_start": -0.5,
            "bin_end": -0.4,
            "count": 0
           },
           {
            "bin_start": -0.4,
            "bin_end": -0.3,
            "count": 0
           },
           {
            "bin_start": -0.3,
            "bin_end": -0.19999999999999996,
            "count": 0
           },
           {
            "bin_start": -0.19999999999999996,
            "bin_end": -0.09999999999999998,
            "count": 0
           },
           {
            "bin_start": -0.09999999999999998,
            "bin_end": 0,
            "count": 0
           },
           {
            "bin_start": 0,
            "bin_end": 0.10000000000000009,
            "count": 5
           },
           {
            "bin_start": 0.10000000000000009,
            "bin_end": 0.20000000000000007,
            "count": 0
           },
           {
            "bin_start": 0.20000000000000007,
            "bin_end": 0.30000000000000004,
            "count": 0
           },
           {
            "bin_start": 0.30000000000000004,
            "bin_end": 0.4,
            "count": 0
           },
           {
            "bin_start": 0.4,
            "bin_end": 0.5,
            "count": 0
           }
          ]
         }
        },
        {
         "name": "FERROCARRI",
         "dtype": "int64",
         "stats": {
          "unique_count": 1,
          "nan_count": 0,
          "min": "0",
          "max": "0",
          "histogram": [
           {
            "bin_start": -0.5,
            "bin_end": -0.4,
            "count": 0
           },
           {
            "bin_start": -0.4,
            "bin_end": -0.3,
            "count": 0
           },
           {
            "bin_start": -0.3,
            "bin_end": -0.19999999999999996,
            "count": 0
           },
           {
            "bin_start": -0.19999999999999996,
            "bin_end": -0.09999999999999998,
            "count": 0
           },
           {
            "bin_start": -0.09999999999999998,
            "bin_end": 0,
            "count": 0
           },
           {
            "bin_start": 0,
            "bin_end": 0.10000000000000009,
            "count": 5
           },
           {
            "bin_start": 0.10000000000000009,
            "bin_end": 0.20000000000000007,
            "count": 0
           },
           {
            "bin_start": 0.20000000000000007,
            "bin_end": 0.30000000000000004,
            "count": 0
           },
           {
            "bin_start": 0.30000000000000004,
            "bin_end": 0.4,
            "count": 0
           },
           {
            "bin_start": 0.4,
            "bin_end": 0.5,
            "count": 0
           }
          ]
         }
        },
        {
         "name": "MOTOCICLET",
         "dtype": "int64",
         "stats": {
          "unique_count": 1,
          "nan_count": 0,
          "min": "0",
          "max": "0",
          "histogram": [
           {
            "bin_start": -0.5,
            "bin_end": -0.4,
            "count": 0
           },
           {
            "bin_start": -0.4,
            "bin_end": -0.3,
            "count": 0
           },
           {
            "bin_start": -0.3,
            "bin_end": -0.19999999999999996,
            "count": 0
           },
           {
            "bin_start": -0.19999999999999996,
            "bin_end": -0.09999999999999998,
            "count": 0
           },
           {
            "bin_start": -0.09999999999999998,
            "bin_end": 0,
            "count": 0
           },
           {
            "bin_start": 0,
            "bin_end": 0.10000000000000009,
            "count": 5
           },
           {
            "bin_start": 0.10000000000000009,
            "bin_end": 0.20000000000000007,
            "count": 0
           },
           {
            "bin_start": 0.20000000000000007,
            "bin_end": 0.30000000000000004,
            "count": 0
           },
           {
            "bin_start": 0.30000000000000004,
            "bin_end": 0.4,
            "count": 0
           },
           {
            "bin_start": 0.4,
            "bin_end": 0.5,
            "count": 0
           }
          ]
         }
        },
        {
         "name": "BICICLETA",
         "dtype": "int64",
         "stats": {
          "unique_count": 1,
          "nan_count": 0,
          "min": "0",
          "max": "0",
          "histogram": [
           {
            "bin_start": -0.5,
            "bin_end": -0.4,
            "count": 0
           },
           {
            "bin_start": -0.4,
            "bin_end": -0.3,
            "count": 0
           },
           {
            "bin_start": -0.3,
            "bin_end": -0.19999999999999996,
            "count": 0
           },
           {
            "bin_start": -0.19999999999999996,
            "bin_end": -0.09999999999999998,
            "count": 0
           },
           {
            "bin_start": -0.09999999999999998,
            "bin_end": 0,
            "count": 0
           },
           {
            "bin_start": 0,
            "bin_end": 0.10000000000000009,
            "count": 5
           },
           {
            "bin_start": 0.10000000000000009,
            "bin_end": 0.20000000000000007,
            "count": 0
           },
           {
            "bin_start": 0.20000000000000007,
            "bin_end": 0.30000000000000004,
            "count": 0
           },
           {
            "bin_start": 0.30000000000000004,
            "bin_end": 0.4,
            "count": 0
           },
           {
            "bin_start": 0.4,
            "bin_end": 0.5,
            "count": 0
           }
          ]
         }
        },
        {
         "name": "OTROVEHIC",
         "dtype": "int64",
         "stats": {
          "unique_count": 1,
          "nan_count": 0,
          "min": "0",
          "max": "0",
          "histogram": [
           {
            "bin_start": -0.5,
            "bin_end": -0.4,
            "count": 0
           },
           {
            "bin_start": -0.4,
            "bin_end": -0.3,
            "count": 0
           },
           {
            "bin_start": -0.3,
            "bin_end": -0.19999999999999996,
            "count": 0
           },
           {
            "bin_start": -0.19999999999999996,
            "bin_end": -0.09999999999999998,
            "count": 0
           },
           {
            "bin_start": -0.09999999999999998,
            "bin_end": 0,
            "count": 0
           },
           {
            "bin_start": 0,
            "bin_end": 0.10000000000000009,
            "count": 5
           },
           {
            "bin_start": 0.10000000000000009,
            "bin_end": 0.20000000000000007,
            "count": 0
           },
           {
            "bin_start": 0.20000000000000007,
            "bin_end": 0.30000000000000004,
            "count": 0
           },
           {
            "bin_start": 0.30000000000000004,
            "bin_end": 0.4,
            "count": 0
           },
           {
            "bin_start": 0.4,
            "bin_end": 0.5,
            "count": 0
           }
          ]
         }
        },
        {
         "name": "CAUSAACCI",
         "dtype": "object",
         "stats": {
          "unique_count": 1,
          "nan_count": 0,
          "categories": [
           {
            "name": "Conductor",
            "count": 5
           }
          ]
         }
        },
        {
         "name": "CAPAROD",
         "dtype": "object",
         "stats": {
          "unique_count": 1,
          "nan_count": 0,
          "categories": [
           {
            "name": "Pavimentada",
            "count": 5
           }
          ]
         }
        },
        {
         "name": "SEXO",
         "dtype": "object",
         "stats": {
          "unique_count": 2,
          "nan_count": 0,
          "categories": [
           {
            "name": "Hombre",
            "count": 4
           },
           {
            "name": "Mujer",
            "count": 1
           }
          ]
         }
        },
        {
         "name": "ALIENTO",
         "dtype": "object",
         "stats": {
          "unique_count": 2,
          "nan_count": 0,
          "categories": [
           {
            "name": "No",
            "count": 4
           },
           {
            "name": "Sí",
            "count": 1
           }
          ]
         }
        },
        {
         "name": "CINTURON",
         "dtype": "object",
         "stats": {
          "unique_count": 1,
          "nan_count": 0,
          "categories": [
           {
            "name": "Se ignora",
            "count": 5
           }
          ]
         }
        },
        {
         "name": "edad",
         "dtype": "int64",
         "stats": {
          "unique_count": 4,
          "nan_count": 0,
          "min": "20",
          "max": "35",
          "histogram": [
           {
            "bin_start": 20,
            "bin_end": 21.5,
            "count": 1
           },
           {
            "bin_start": 21.5,
            "bin_end": 23,
            "count": 2
           },
           {
            "bin_start": 23,
            "bin_end": 24.5,
            "count": 0
           },
           {
            "bin_start": 24.5,
            "bin_end": 26,
            "count": 0
           },
           {
            "bin_start": 26,
            "bin_end": 27.5,
            "count": 0
           },
           {
            "bin_start": 27.5,
            "bin_end": 29,
            "count": 1
           },
           {
            "bin_start": 29,
            "bin_end": 30.5,
            "count": 0
           },
           {
            "bin_start": 30.5,
            "bin_end": 32,
            "count": 0
           },
           {
            "bin_start": 32,
            "bin_end": 33.5,
            "count": 0
           },
           {
            "bin_start": 33.5,
            "bin_end": 35,
            "count": 1
           }
          ]
         }
        },
        {
         "name": "CONDMUERTO",
         "dtype": "int64",
         "stats": {
          "unique_count": 1,
          "nan_count": 0,
          "min": "0",
          "max": "0",
          "histogram": [
           {
            "bin_start": -0.5,
            "bin_end": -0.4,
            "count": 0
           },
           {
            "bin_start": -0.4,
            "bin_end": -0.3,
            "count": 0
           },
           {
            "bin_start": -0.3,
            "bin_end": -0.19999999999999996,
            "count": 0
           },
           {
            "bin_start": -0.19999999999999996,
            "bin_end": -0.09999999999999998,
            "count": 0
           },
           {
            "bin_start": -0.09999999999999998,
            "bin_end": 0,
            "count": 0
           },
           {
            "bin_start": 0,
            "bin_end": 0.10000000000000009,
            "count": 5
           },
           {
            "bin_start": 0.10000000000000009,
            "bin_end": 0.20000000000000007,
            "count": 0
           },
           {
            "bin_start": 0.20000000000000007,
            "bin_end": 0.30000000000000004,
            "count": 0
           },
           {
            "bin_start": 0.30000000000000004,
            "bin_end": 0.4,
            "count": 0
           },
           {
            "bin_start": 0.4,
            "bin_end": 0.5,
            "count": 0
           }
          ]
         }
        },
        {
         "name": "CONDHERIDO",
         "dtype": "int64",
         "stats": {
          "unique_count": 2,
          "nan_count": 0,
          "min": "0",
          "max": "1",
          "histogram": [
           {
            "bin_start": 0,
            "bin_end": 0.1,
            "count": 4
           },
           {
            "bin_start": 0.1,
            "bin_end": 0.2,
            "count": 0
           },
           {
            "bin_start": 0.2,
            "bin_end": 0.30000000000000004,
            "count": 0
           },
           {
            "bin_start": 0.30000000000000004,
            "bin_end": 0.4,
            "count": 0
           },
           {
            "bin_start": 0.4,
            "bin_end": 0.5,
            "count": 0
           },
           {
            "bin_start": 0.5,
            "bin_end": 0.6000000000000001,
            "count": 0
           },
           {
            "bin_start": 0.6000000000000001,
            "bin_end": 0.7000000000000001,
            "count": 0
           },
           {
            "bin_start": 0.7000000000000001,
            "bin_end": 0.8,
            "count": 0
           },
           {
            "bin_start": 0.8,
            "bin_end": 0.9,
            "count": 0
           },
           {
            "bin_start": 0.9,
            "bin_end": 1,
            "count": 1
           }
          ]
         }
        },
        {
         "name": "PASAMUERTO",
         "dtype": "int64",
         "stats": {
          "unique_count": 1,
          "nan_count": 0,
          "min": "0",
          "max": "0",
          "histogram": [
           {
            "bin_start": -0.5,
            "bin_end": -0.4,
            "count": 0
           },
           {
            "bin_start": -0.4,
            "bin_end": -0.3,
            "count": 0
           },
           {
            "bin_start": -0.3,
            "bin_end": -0.19999999999999996,
            "count": 0
           },
           {
            "bin_start": -0.19999999999999996,
            "bin_end": -0.09999999999999998,
            "count": 0
           },
           {
            "bin_start": -0.09999999999999998,
            "bin_end": 0,
            "count": 0
           },
           {
            "bin_start": 0,
            "bin_end": 0.10000000000000009,
            "count": 5
           },
           {
            "bin_start": 0.10000000000000009,
            "bin_end": 0.20000000000000007,
            "count": 0
           },
           {
            "bin_start": 0.20000000000000007,
            "bin_end": 0.30000000000000004,
            "count": 0
           },
           {
            "bin_start": 0.30000000000000004,
            "bin_end": 0.4,
            "count": 0
           },
           {
            "bin_start": 0.4,
            "bin_end": 0.5,
            "count": 0
           }
          ]
         }
        },
        {
         "name": "PASAHERIDO",
         "dtype": "int64",
         "stats": {
          "unique_count": 2,
          "nan_count": 0,
          "min": "0",
          "max": "2",
          "histogram": [
           {
            "bin_start": 0,
            "bin_end": 0.2,
            "count": 4
           },
           {
            "bin_start": 0.2,
            "bin_end": 0.4,
            "count": 0
           },
           {
            "bin_start": 0.4,
            "bin_end": 0.6000000000000001,
            "count": 0
           },
           {
            "bin_start": 0.6000000000000001,
            "bin_end": 0.8,
            "count": 0
           },
           {
            "bin_start": 0.8,
            "bin_end": 1,
            "count": 0
           },
           {
            "bin_start": 1,
            "bin_end": 1.2000000000000002,
            "count": 0
           },
           {
            "bin_start": 1.2000000000000002,
            "bin_end": 1.4000000000000001,
            "count": 0
           },
           {
            "bin_start": 1.4000000000000001,
            "bin_end": 1.6,
            "count": 0
           },
           {
            "bin_start": 1.6,
            "bin_end": 1.8,
            "count": 0
           },
           {
            "bin_start": 1.8,
            "bin_end": 2,
            "count": 1
           }
          ]
         }
        },
        {
         "name": "PEATMUERTO",
         "dtype": "int64",
         "stats": {
          "unique_count": 1,
          "nan_count": 0,
          "min": "0",
          "max": "0",
          "histogram": [
           {
            "bin_start": -0.5,
            "bin_end": -0.4,
            "count": 0
           },
           {
            "bin_start": -0.4,
            "bin_end": -0.3,
            "count": 0
           },
           {
            "bin_start": -0.3,
            "bin_end": -0.19999999999999996,
            "count": 0
           },
           {
            "bin_start": -0.19999999999999996,
            "bin_end": -0.09999999999999998,
            "count": 0
           },
           {
            "bin_start": -0.09999999999999998,
            "bin_end": 0,
            "count": 0
           },
           {
            "bin_start": 0,
            "bin_end": 0.10000000000000009,
            "count": 5
           },
           {
            "bin_start": 0.10000000000000009,
            "bin_end": 0.20000000000000007,
            "count": 0
           },
           {
            "bin_start": 0.20000000000000007,
            "bin_end": 0.30000000000000004,
            "count": 0
           },
           {
            "bin_start": 0.30000000000000004,
            "bin_end": 0.4,
            "count": 0
           },
           {
            "bin_start": 0.4,
            "bin_end": 0.5,
            "count": 0
           }
          ]
         }
        },
        {
         "name": "PEATHERIDO",
         "dtype": "int64",
         "stats": {
          "unique_count": 1,
          "nan_count": 0,
          "min": "0",
          "max": "0",
          "histogram": [
           {
            "bin_start": -0.5,
            "bin_end": -0.4,
            "count": 0
           },
           {
            "bin_start": -0.4,
            "bin_end": -0.3,
            "count": 0
           },
           {
            "bin_start": -0.3,
            "bin_end": -0.19999999999999996,
            "count": 0
           },
           {
            "bin_start": -0.19999999999999996,
            "bin_end": -0.09999999999999998,
            "count": 0
           },
           {
            "bin_start": -0.09999999999999998,
            "bin_end": 0,
            "count": 0
           },
           {
            "bin_start": 0,
            "bin_end": 0.10000000000000009,
            "count": 5
           },
           {
            "bin_start": 0.10000000000000009,
            "bin_end": 0.20000000000000007,
            "count": 0
           },
           {
            "bin_start": 0.20000000000000007,
            "bin_end": 0.30000000000000004,
            "count": 0
           },
           {
            "bin_start": 0.30000000000000004,
            "bin_end": 0.4,
            "count": 0
           },
           {
            "bin_start": 0.4,
            "bin_end": 0.5,
            "count": 0
           }
          ]
         }
        },
        {
         "name": "CICLMUERTO",
         "dtype": "int64",
         "stats": {
          "unique_count": 1,
          "nan_count": 0,
          "min": "0",
          "max": "0",
          "histogram": [
           {
            "bin_start": -0.5,
            "bin_end": -0.4,
            "count": 0
           },
           {
            "bin_start": -0.4,
            "bin_end": -0.3,
            "count": 0
           },
           {
            "bin_start": -0.3,
            "bin_end": -0.19999999999999996,
            "count": 0
           },
           {
            "bin_start": -0.19999999999999996,
            "bin_end": -0.09999999999999998,
            "count": 0
           },
           {
            "bin_start": -0.09999999999999998,
            "bin_end": 0,
            "count": 0
           },
           {
            "bin_start": 0,
            "bin_end": 0.10000000000000009,
            "count": 5
           },
           {
            "bin_start": 0.10000000000000009,
            "bin_end": 0.20000000000000007,
            "count": 0
           },
           {
            "bin_start": 0.20000000000000007,
            "bin_end": 0.30000000000000004,
            "count": 0
           },
           {
            "bin_start": 0.30000000000000004,
            "bin_end": 0.4,
            "count": 0
           },
           {
            "bin_start": 0.4,
            "bin_end": 0.5,
            "count": 0
           }
          ]
         }
        },
        {
         "name": "CICLHERIDO",
         "dtype": "int64",
         "stats": {
          "unique_count": 1,
          "nan_count": 0,
          "min": "0",
          "max": "0",
          "histogram": [
           {
            "bin_start": -0.5,
            "bin_end": -0.4,
            "count": 0
           },
           {
            "bin_start": -0.4,
            "bin_end": -0.3,
            "count": 0
           },
           {
            "bin_start": -0.3,
            "bin_end": -0.19999999999999996,
            "count": 0
           },
           {
            "bin_start": -0.19999999999999996,
            "bin_end": -0.09999999999999998,
            "count": 0
           },
           {
            "bin_start": -0.09999999999999998,
            "bin_end": 0,
            "count": 0
           },
           {
            "bin_start": 0,
            "bin_end": 0.10000000000000009,
            "count": 5
           },
           {
            "bin_start": 0.10000000000000009,
            "bin_end": 0.20000000000000007,
            "count": 0
           },
           {
            "bin_start": 0.20000000000000007,
            "bin_end": 0.30000000000000004,
            "count": 0
           },
           {
            "bin_start": 0.30000000000000004,
            "bin_end": 0.4,
            "count": 0
           },
           {
            "bin_start": 0.4,
            "bin_end": 0.5,
            "count": 0
           }
          ]
         }
        },
        {
         "name": "OTROMUERTO",
         "dtype": "int64",
         "stats": {
          "unique_count": 1,
          "nan_count": 0,
          "min": "0",
          "max": "0",
          "histogram": [
           {
            "bin_start": -0.5,
            "bin_end": -0.4,
            "count": 0
           },
           {
            "bin_start": -0.4,
            "bin_end": -0.3,
            "count": 0
           },
           {
            "bin_start": -0.3,
            "bin_end": -0.19999999999999996,
            "count": 0
           },
           {
            "bin_start": -0.19999999999999996,
            "bin_end": -0.09999999999999998,
            "count": 0
           },
           {
            "bin_start": -0.09999999999999998,
            "bin_end": 0,
            "count": 0
           },
           {
            "bin_start": 0,
            "bin_end": 0.10000000000000009,
            "count": 5
           },
           {
            "bin_start": 0.10000000000000009,
            "bin_end": 0.20000000000000007,
            "count": 0
           },
           {
            "bin_start": 0.20000000000000007,
            "bin_end": 0.30000000000000004,
            "count": 0
           },
           {
            "bin_start": 0.30000000000000004,
            "bin_end": 0.4,
            "count": 0
           },
           {
            "bin_start": 0.4,
            "bin_end": 0.5,
            "count": 0
           }
          ]
         }
        },
        {
         "name": "OTROHERIDO",
         "dtype": "int64",
         "stats": {
          "unique_count": 1,
          "nan_count": 0,
          "min": "0",
          "max": "0",
          "histogram": [
           {
            "bin_start": -0.5,
            "bin_end": -0.4,
            "count": 0
           },
           {
            "bin_start": -0.4,
            "bin_end": -0.3,
            "count": 0
           },
           {
            "bin_start": -0.3,
            "bin_end": -0.19999999999999996,
            "count": 0
           },
           {
            "bin_start": -0.19999999999999996,
            "bin_end": -0.09999999999999998,
            "count": 0
           },
           {
            "bin_start": -0.09999999999999998,
            "bin_end": 0,
            "count": 0
           },
           {
            "bin_start": 0,
            "bin_end": 0.10000000000000009,
            "count": 5
           },
           {
            "bin_start": 0.10000000000000009,
            "bin_end": 0.20000000000000007,
            "count": 0
           },
           {
            "bin_start": 0.20000000000000007,
            "bin_end": 0.30000000000000004,
            "count": 0
           },
           {
            "bin_start": 0.30000000000000004,
            "bin_end": 0.4,
            "count": 0
           },
           {
            "bin_start": 0.4,
            "bin_end": 0.5,
            "count": 0
           }
          ]
         }
        },
        {
         "name": "NEMUERTO",
         "dtype": "int64",
         "stats": {
          "unique_count": 1,
          "nan_count": 0,
          "min": "0",
          "max": "0",
          "histogram": [
           {
            "bin_start": -0.5,
            "bin_end": -0.4,
            "count": 0
           },
           {
            "bin_start": -0.4,
            "bin_end": -0.3,
            "count": 0
           },
           {
            "bin_start": -0.3,
            "bin_end": -0.19999999999999996,
            "count": 0
           },
           {
            "bin_start": -0.19999999999999996,
            "bin_end": -0.09999999999999998,
            "count": 0
           },
           {
            "bin_start": -0.09999999999999998,
            "bin_end": 0,
            "count": 0
           },
           {
            "bin_start": 0,
            "bin_end": 0.10000000000000009,
            "count": 5
           },
           {
            "bin_start": 0.10000000000000009,
            "bin_end": 0.20000000000000007,
            "count": 0
           },
           {
            "bin_start": 0.20000000000000007,
            "bin_end": 0.30000000000000004,
            "count": 0
           },
           {
            "bin_start": 0.30000000000000004,
            "bin_end": 0.4,
            "count": 0
           },
           {
            "bin_start": 0.4,
            "bin_end": 0.5,
            "count": 0
           }
          ]
         }
        },
        {
         "name": "NEHERIDO",
         "dtype": "int64",
         "stats": {
          "unique_count": 1,
          "nan_count": 0,
          "min": "0",
          "max": "0",
          "histogram": [
           {
            "bin_start": -0.5,
            "bin_end": -0.4,
            "count": 0
           },
           {
            "bin_start": -0.4,
            "bin_end": -0.3,
            "count": 0
           },
           {
            "bin_start": -0.3,
            "bin_end": -0.19999999999999996,
            "count": 0
           },
           {
            "bin_start": -0.19999999999999996,
            "bin_end": -0.09999999999999998,
            "count": 0
           },
           {
            "bin_start": -0.09999999999999998,
            "bin_end": 0,
            "count": 0
           },
           {
            "bin_start": 0,
            "bin_end": 0.10000000000000009,
            "count": 5
           },
           {
            "bin_start": 0.10000000000000009,
            "bin_end": 0.20000000000000007,
            "count": 0
           },
           {
            "bin_start": 0.20000000000000007,
            "bin_end": 0.30000000000000004,
            "count": 0
           },
           {
            "bin_start": 0.30000000000000004,
            "bin_end": 0.4,
            "count": 0
           },
           {
            "bin_start": 0.4,
            "bin_end": 0.5,
            "count": 0
           }
          ]
         }
        },
        {
         "name": "CLASACC",
         "dtype": "object",
         "stats": {
          "unique_count": 2,
          "nan_count": 0,
          "categories": [
           {
            "name": "Sólo daños",
            "count": 3
           },
           {
            "name": "No fatal",
            "count": 2
           }
          ]
         }
        },
        {
         "name": "ESTATUS",
         "dtype": "object",
         "stats": {
          "unique_count": 1,
          "nan_count": 0,
          "categories": [
           {
            "name": "Cifras Definitivas",
            "count": 5
           }
          ]
         }
        },
        {
         "name": "_deepnote_index_column",
         "dtype": "int64"
        }
       ],
       "rows": [
        {
         "Entidad": "Aguascalientes",
         "Municipio ": "Aguascalientes",
         "ANIO": 2019,
         "MES": 1,
         "Hora": 1,
         "Minuto": 5,
         "Día": 1,
         "DIASEMANA": "Martes",
         "URBANA": "Accidente en intersección",
         "SUBURBANA": "Sin accidente en esta zona",
         "TIPACCID": "Colisión con vehículo automotor",
         "AUTOMOVIL": 0,
         "CAMPASAJ": 1,
         "MICROBUS": 0,
         "PASCAMION": 0,
         "OMNIBUS": 0,
         "TRANVIA": 0,
         "CAMIONETA": 1,
         "CAMION": 0,
         "TRACTOR": 0,
         "FERROCARRI": 0,
         "MOTOCICLET": 0,
         "BICICLETA": 0,
         "OTROVEHIC": 0,
         "CAUSAACCI": "Conductor",
         "CAPAROD": "Pavimentada",
         "SEXO": "Hombre",
         "ALIENTO": "Sí",
         "CINTURON": "Se ignora",
         "edad": 22,
         "CONDMUERTO": 0,
         "CONDHERIDO": 0,
         "PASAMUERTO": 0,
         "PASAHERIDO": 2,
         "PEATMUERTO": 0,
         "PEATHERIDO": 0,
         "CICLMUERTO": 0,
         "CICLHERIDO": 0,
         "OTROMUERTO": 0,
         "OTROHERIDO": 0,
         "NEMUERTO": 0,
         "NEHERIDO": 0,
         "CLASACC": "No fatal",
         "ESTATUS": "Cifras Definitivas",
         "_deepnote_index_column": 0
        },
        {
         "Entidad": "Aguascalientes",
         "Municipio ": "Aguascalientes",
         "ANIO": 2019,
         "MES": 1,
         "Hora": 3,
         "Minuto": 53,
         "Día": 1,
         "DIASEMANA": "Martes",
         "URBANA": "Accidente en intersección",
         "SUBURBANA": "Sin accidente en esta zona",
         "TIPACCID": "Colisión con vehículo automotor",
         "AUTOMOVIL": 4,
         "CAMPASAJ": 1,
         "MICROBUS": 0,
         "PASCAMION": 0,
         "OMNIBUS": 0,
         "TRANVIA": 0,
         "CAMIONETA": 0,
         "CAMION": 0,
         "TRACTOR": 0,
         "FERROCARRI": 0,
         "MOTOCICLET": 0,
         "BICICLETA": 0,
         "OTROVEHIC": 0,
         "CAUSAACCI": "Conductor",
         "CAPAROD": "Pavimentada",
         "SEXO": "Hombre",
         "ALIENTO": "No",
         "CINTURON": "Se ignora",
         "edad": 22,
         "CONDMUERTO": 0,
         "CONDHERIDO": 1,
         "PASAMUERTO": 0,
         "PASAHERIDO": 0,
         "PEATMUERTO": 0,
         "PEATHERIDO": 0,
         "CICLMUERTO": 0,
         "CICLHERIDO": 0,
         "OTROMUERTO": 0,
         "OTROHERIDO": 0,
         "NEMUERTO": 0,
         "NEHERIDO": 0,
         "CLASACC": "No fatal",
         "ESTATUS": "Cifras Definitivas",
         "_deepnote_index_column": 1
        },
        {
         "Entidad": "Aguascalientes",
         "Municipio ": "Aguascalientes",
         "ANIO": 2019,
         "MES": 1,
         "Hora": 5,
         "Minuto": 35,
         "Día": 1,
         "DIASEMANA": "Martes",
         "URBANA": "Accidente en intersección",
         "SUBURBANA": "Sin accidente en esta zona",
         "TIPACCID": "Colisión con vehículo automotor",
         "AUTOMOVIL": 2,
         "CAMPASAJ": 0,
         "MICROBUS": 0,
         "PASCAMION": 0,
         "OMNIBUS": 0,
         "TRANVIA": 0,
         "CAMIONETA": 0,
         "CAMION": 0,
         "TRACTOR": 0,
         "FERROCARRI": 0,
         "MOTOCICLET": 0,
         "BICICLETA": 0,
         "OTROVEHIC": 0,
         "CAUSAACCI": "Conductor",
         "CAPAROD": "Pavimentada",
         "SEXO": "Hombre",
         "ALIENTO": "No",
         "CINTURON": "Se ignora",
         "edad": 28,
         "CONDMUERTO": 0,
         "CONDHERIDO": 0,
         "PASAMUERTO": 0,
         "PASAHERIDO": 0,
         "PEATMUERTO": 0,
         "PEATHERIDO": 0,
         "CICLMUERTO": 0,
         "CICLHERIDO": 0,
         "OTROMUERTO": 0,
         "OTROHERIDO": 0,
         "NEMUERTO": 0,
         "NEHERIDO": 0,
         "CLASACC": "Sólo daños",
         "ESTATUS": "Cifras Definitivas",
         "_deepnote_index_column": 2
        },
        {
         "Entidad": "Aguascalientes",
         "Municipio ": "Aguascalientes",
         "ANIO": 2019,
         "MES": 1,
         "Hora": 6,
         "Minuto": 50,
         "Día": 1,
         "DIASEMANA": "Martes",
         "URBANA": "Accidente en intersección",
         "SUBURBANA": "Sin accidente en esta zona",
         "TIPACCID": "Colisión con objeto fijo",
         "AUTOMOVIL": 1,
         "CAMPASAJ": 0,
         "MICROBUS": 0,
         "PASCAMION": 0,
         "OMNIBUS": 0,
         "TRANVIA": 0,
         "CAMIONETA": 0,
         "CAMION": 0,
         "TRACTOR": 0,
         "FERROCARRI": 0,
         "MOTOCICLET": 0,
         "BICICLETA": 0,
         "OTROVEHIC": 0,
         "CAUSAACCI": "Conductor",
         "CAPAROD": "Pavimentada",
         "SEXO": "Hombre",
         "ALIENTO": "No",
         "CINTURON": "Se ignora",
         "edad": 20,
         "CONDMUERTO": 0,
         "CONDHERIDO": 0,
         "PASAMUERTO": 0,
         "PASAHERIDO": 0,
         "PEATMUERTO": 0,
         "PEATHERIDO": 0,
         "CICLMUERTO": 0,
         "CICLHERIDO": 0,
         "OTROMUERTO": 0,
         "OTROHERIDO": 0,
         "NEMUERTO": 0,
         "NEHERIDO": 0,
         "CLASACC": "Sólo daños",
         "ESTATUS": "Cifras Definitivas",
         "_deepnote_index_column": 3
        },
        {
         "Entidad": "Aguascalientes",
         "Municipio ": "Aguascalientes",
         "ANIO": 2019,
         "MES": 1,
         "Hora": 8,
         "Minuto": 50,
         "Día": 1,
         "DIASEMANA": "Martes",
         "URBANA": "Accidente en intersección",
         "SUBURBANA": "Sin accidente en esta zona",
         "TIPACCID": "Colisión con objeto fijo",
         "AUTOMOVIL": 0,
         "CAMPASAJ": 1,
         "MICROBUS": 0,
         "PASCAMION": 0,
         "OMNIBUS": 0,
         "TRANVIA": 0,
         "CAMIONETA": 0,
         "CAMION": 0,
         "TRACTOR": 0,
         "FERROCARRI": 0,
         "MOTOCICLET": 0,
         "BICICLETA": 0,
         "OTROVEHIC": 0,
         "CAUSAACCI": "Conductor",
         "CAPAROD": "Pavimentada",
         "SEXO": "Mujer",
         "ALIENTO": "No",
         "CINTURON": "Se ignora",
         "edad": 35,
         "CONDMUERTO": 0,
         "CONDHERIDO": 0,
         "PASAMUERTO": 0,
         "PASAHERIDO": 0,
         "PEATMUERTO": 0,
         "PEATHERIDO": 0,
         "CICLMUERTO": 0,
         "CICLHERIDO": 0,
         "OTROMUERTO": 0,
         "OTROHERIDO": 0,
         "NEMUERTO": 0,
         "NEHERIDO": 0,
         "CLASACC": "Sólo daños",
         "ESTATUS": "Cifras Definitivas",
         "_deepnote_index_column": 4
        }
       ]
      },
      "text/plain": "          Entidad      Municipio   ANIO  MES  Hora  Minuto  Día DIASEMANA  \\\n0  Aguascalientes  Aguascalientes  2019    1     1       5    1    Martes   \n1  Aguascalientes  Aguascalientes  2019    1     3      53    1    Martes   \n2  Aguascalientes  Aguascalientes  2019    1     5      35    1    Martes   \n3  Aguascalientes  Aguascalientes  2019    1     6      50    1    Martes   \n4  Aguascalientes  Aguascalientes  2019    1     8      50    1    Martes   \n\n                      URBANA                   SUBURBANA  ... PEATMUERTO  \\\n0  Accidente en intersección  Sin accidente en esta zona  ...          0   \n1  Accidente en intersección  Sin accidente en esta zona  ...          0   \n2  Accidente en intersección  Sin accidente en esta zona  ...          0   \n3  Accidente en intersección  Sin accidente en esta zona  ...          0   \n4  Accidente en intersección  Sin accidente en esta zona  ...          0   \n\n   PEATHERIDO  CICLMUERTO  CICLHERIDO  OTROMUERTO  OTROHERIDO  NEMUERTO  \\\n0           0           0           0           0           0         0   \n1           0           0           0           0           0         0   \n2           0           0           0           0           0         0   \n3           0           0           0           0           0         0   \n4           0           0           0           0           0         0   \n\n   NEHERIDO     CLASACC             ESTATUS  \n0         0    No fatal  Cifras Definitivas  \n1         0    No fatal  Cifras Definitivas  \n2         0  Sólo daños  Cifras Definitivas  \n3         0  Sólo daños  Cifras Definitivas  \n4         0  Sólo daños  Cifras Definitivas  \n\n[5 rows x 44 columns]",
      "text/html": "<div>\n<style scoped>\n    .dataframe tbody tr th:only-of-type {\n        vertical-align: middle;\n    }\n\n    .dataframe tbody tr th {\n        vertical-align: top;\n    }\n\n    .dataframe thead th {\n        text-align: right;\n    }\n</style>\n<table border=\"1\" class=\"dataframe\">\n  <thead>\n    <tr style=\"text-align: right;\">\n      <th></th>\n      <th>Entidad</th>\n      <th>Municipio</th>\n      <th>ANIO</th>\n      <th>MES</th>\n      <th>Hora</th>\n      <th>Minuto</th>\n      <th>Día</th>\n      <th>DIASEMANA</th>\n      <th>URBANA</th>\n      <th>SUBURBANA</th>\n      <th>...</th>\n      <th>PEATMUERTO</th>\n      <th>PEATHERIDO</th>\n      <th>CICLMUERTO</th>\n      <th>CICLHERIDO</th>\n      <th>OTROMUERTO</th>\n      <th>OTROHERIDO</th>\n      <th>NEMUERTO</th>\n      <th>NEHERIDO</th>\n      <th>CLASACC</th>\n      <th>ESTATUS</th>\n    </tr>\n  </thead>\n  <tbody>\n    <tr>\n      <th>0</th>\n      <td>Aguascalientes</td>\n      <td>Aguascalientes</td>\n      <td>2019</td>\n      <td>1</td>\n      <td>1</td>\n      <td>5</td>\n      <td>1</td>\n      <td>Martes</td>\n      <td>Accidente en intersección</td>\n      <td>Sin accidente en esta zona</td>\n      <td>...</td>\n      <td>0</td>\n      <td>0</td>\n      <td>0</td>\n      <td>0</td>\n      <td>0</td>\n      <td>0</td>\n      <td>0</td>\n      <td>0</td>\n      <td>No fatal</td>\n      <td>Cifras Definitivas</td>\n    </tr>\n    <tr>\n      <th>1</th>\n      <td>Aguascalientes</td>\n      <td>Aguascalientes</td>\n      <td>2019</td>\n      <td>1</td>\n      <td>3</td>\n      <td>53</td>\n      <td>1</td>\n      <td>Martes</td>\n      <td>Accidente en intersección</td>\n      <td>Sin accidente en esta zona</td>\n      <td>...</td>\n      <td>0</td>\n      <td>0</td>\n      <td>0</td>\n      <td>0</td>\n      <td>0</td>\n      <td>0</td>\n      <td>0</td>\n      <td>0</td>\n      <td>No fatal</td>\n      <td>Cifras Definitivas</td>\n    </tr>\n    <tr>\n      <th>2</th>\n      <td>Aguascalientes</td>\n      <td>Aguascalientes</td>\n      <td>2019</td>\n      <td>1</td>\n      <td>5</td>\n      <td>35</td>\n      <td>1</td>\n      <td>Martes</td>\n      <td>Accidente en intersección</td>\n      <td>Sin accidente en esta zona</td>\n      <td>...</td>\n      <td>0</td>\n      <td>0</td>\n      <td>0</td>\n      <td>0</td>\n      <td>0</td>\n      <td>0</td>\n      <td>0</td>\n      <td>0</td>\n      <td>Sólo daños</td>\n      <td>Cifras Definitivas</td>\n    </tr>\n    <tr>\n      <th>3</th>\n      <td>Aguascalientes</td>\n      <td>Aguascalientes</td>\n      <td>2019</td>\n      <td>1</td>\n      <td>6</td>\n      <td>50</td>\n      <td>1</td>\n      <td>Martes</td>\n      <td>Accidente en intersección</td>\n      <td>Sin accidente en esta zona</td>\n      <td>...</td>\n      <td>0</td>\n      <td>0</td>\n      <td>0</td>\n      <td>0</td>\n      <td>0</td>\n      <td>0</td>\n      <td>0</td>\n      <td>0</td>\n      <td>Sólo daños</td>\n      <td>Cifras Definitivas</td>\n    </tr>\n    <tr>\n      <th>4</th>\n      <td>Aguascalientes</td>\n      <td>Aguascalientes</td>\n      <td>2019</td>\n      <td>1</td>\n      <td>8</td>\n      <td>50</td>\n      <td>1</td>\n      <td>Martes</td>\n      <td>Accidente en intersección</td>\n      <td>Sin accidente en esta zona</td>\n      <td>...</td>\n      <td>0</td>\n      <td>0</td>\n      <td>0</td>\n      <td>0</td>\n      <td>0</td>\n      <td>0</td>\n      <td>0</td>\n      <td>0</td>\n      <td>Sólo daños</td>\n      <td>Cifras Definitivas</td>\n    </tr>\n  </tbody>\n</table>\n<p>5 rows × 44 columns</p>\n</div>"
     },
     "metadata": {}
    }
   ],
   "execution_count": null
  },
  {
   "cell_type": "code",
   "source": "df['Hora'].value_counts().sort_values(ascending=False)",
   "metadata": {
    "cell_id": "32fa6034649b4ab2ab8609c6d82c247b",
    "tags": [],
    "deepnote_to_be_reexecuted": false,
    "source_hash": "56ea4c43",
    "execution_start": 1648314169508,
    "execution_millis": 15,
    "deepnote_cell_type": "code",
    "deepnote_cell_height": 579,
    "deepnote_output_heights": [
     482
    ]
   },
   "outputs": [
    {
     "output_type": "execute_result",
     "execution_count": 51,
     "data": {
      "text/plain": "23    26803\n15    22021\n14    21909\n16    20709\n8     20654\n19    20637\n18    20565\n17    20125\n13    19041\n9     18615\n12    18385\n20    18257\n10    17142\n11    17096\n7     15486\n21    15042\n22    13034\n0     11531\n6      8576\n1      7873\n2      7468\n3      6486\n4      5898\n5      5461\nName: Hora, dtype: int64"
     },
     "metadata": {}
    }
   ],
   "execution_count": null
  },
  {
   "cell_type": "markdown",
   "source": "- La hora más común de choque es a las **23**",
   "metadata": {
    "cell_id": "303aa2516ab847a7b2043fd724deedee",
    "tags": [],
    "deepnote_cell_type": "markdown",
    "deepnote_cell_height": 69.390625
   },
   "outputs": [],
   "execution_count": null
  },
  {
   "cell_type": "code",
   "source": "df['MES'].value_counts().sort_values(ascending=False)",
   "metadata": {
    "cell_id": "35512a8cac1b465594aee4eb0938f342",
    "tags": [],
    "deepnote_to_be_reexecuted": false,
    "source_hash": "475f33fd",
    "execution_start": 1648314482535,
    "execution_millis": 15,
    "deepnote_cell_type": "code",
    "deepnote_cell_height": 348.578125,
    "deepnote_output_heights": [
     251.59375
    ]
   },
   "outputs": [
    {
     "output_type": "execute_result",
     "execution_count": 61,
     "data": {
      "text/plain": "12    34239\n10    33283\n3     32886\n11    32830\n5     32003\n8     31526\n6     31452\n9     30940\n2     29989\n7     29981\n1     29936\n4     29749\nName: MES, dtype: int64"
     },
     "metadata": {}
    }
   ],
   "execution_count": null
  },
  {
   "cell_type": "markdown",
   "source": "- El mes con choque más común es Diciembre con 34,239",
   "metadata": {
    "cell_id": "83b72d54724547a39fbe0c030ac92edc",
    "tags": [],
    "deepnote_cell_type": "markdown",
    "deepnote_cell_height": 69.390625
   },
   "outputs": [],
   "execution_count": null
  },
  {
   "cell_type": "markdown",
   "source": "- Seguido de Octubre con 33,283",
   "metadata": {
    "cell_id": "b66c1f527d674cf7b229be03a56375f7",
    "tags": [],
    "deepnote_cell_type": "markdown",
    "deepnote_cell_height": 69.390625
   }
  },
  {
   "cell_type": "code",
   "source": "df['AUTOMOVIL'].value_counts().sort_values(ascending=False)",
   "metadata": {
    "cell_id": "2590bfc403ff4745846a5d3250c9b726",
    "tags": [],
    "deepnote_to_be_reexecuted": false,
    "source_hash": "f4c55223",
    "execution_start": 1648314586901,
    "execution_millis": 14,
    "deepnote_cell_type": "code",
    "deepnote_cell_height": 310.1875,
    "deepnote_output_heights": [
     213.1875
    ]
   },
   "outputs": [
    {
     "output_type": "execute_result",
     "execution_count": 62,
     "data": {
      "text/plain": "1    168845\n2    117885\n0     83306\n3      7239\n4      1262\n5       217\n6        43\n7        12\n8         3\n9         2\nName: AUTOMOVIL, dtype: int64"
     },
     "metadata": {}
    }
   ],
   "execution_count": null
  },
  {
   "cell_type": "markdown",
   "source": "- La mayoría de accidentes solo ocurre con un automóvil",
   "metadata": {
    "cell_id": "5ff31558f94f41998d247204105e7ade",
    "tags": [],
    "deepnote_cell_type": "markdown",
    "deepnote_cell_height": 69.390625
   },
   "outputs": [],
   "execution_count": null
  },
  {
   "cell_type": "code",
   "source": "df['CAUSAACCI'].value_counts().sort_values(ascending=False)",
   "metadata": {
    "cell_id": "045a0dd4c77a4ab69060ea05dd4718e0",
    "tags": [],
    "deepnote_to_be_reexecuted": false,
    "source_hash": "4174b89c",
    "execution_start": 1648314673439,
    "execution_millis": 23,
    "deepnote_cell_type": "code",
    "deepnote_cell_height": 233.375,
    "deepnote_output_heights": [
     136.390625
    ]
   },
   "outputs": [
    {
     "output_type": "execute_result",
     "execution_count": 63,
     "data": {
      "text/plain": "Conductor                    335068\nCertificado cero              16085\nOtra                          11612\nMala condición del camino      9447\nFalla del vehículo             3479\nPeatón o pasajero              3123\nName: CAUSAACCI, dtype: int64"
     },
     "metadata": {}
    }
   ],
   "execution_count": null
  },
  {
   "cell_type": "code",
   "source": "x = df['CAUSAACCI'].value_counts().sort_values(ascending=False).index\ny = df['CAUSAACCI'].value_counts().sort_values(ascending=False).values",
   "metadata": {
    "cell_id": "606a663ed63f4fd6b6d6c58a9edc17e9",
    "tags": [],
    "deepnote_to_be_reexecuted": false,
    "source_hash": "c7431575",
    "execution_start": 1648314696835,
    "execution_millis": 7,
    "deepnote_cell_type": "code",
    "deepnote_cell_height": 99
   },
   "outputs": [],
   "execution_count": null
  },
  {
   "cell_type": "code",
   "source": "plt.figure(figsize=[8,6])\nplt.bar(x, y)\nplt.xticks(fontsize=8)\nplt.show()",
   "metadata": {
    "cell_id": "1089e93b33a84390a3827b25e7ebfa83",
    "tags": [],
    "deepnote_to_be_reexecuted": false,
    "source_hash": "fd3958d",
    "execution_start": 1648314778310,
    "execution_millis": 224,
    "deepnote_cell_type": "code",
    "deepnote_cell_height": 512,
    "deepnote_output_heights": [
     361
    ]
   },
   "outputs": [
    {
     "data": {
      "text/plain": "<Figure size 576x432 with 1 Axes>",
      "image/png": "[encoded data removed]"
     },
     "metadata": {
      "needs_background": "light",
      "image/png": {
       "width": 505,
       "height": 359
      }
     },
     "output_type": "display_data"
    }
   ],
   "execution_count": null
  },
  {
   "cell_type": "markdown",
   "source": "- La mayoría de accidentes fueron culpa del conductor!",
   "metadata": {
    "cell_id": "37f8c523764b4599b7d21efd352059c0",
    "tags": [],
    "deepnote_cell_type": "markdown",
    "deepnote_cell_height": 69.390625
   },
   "outputs": [],
   "execution_count": null
  },
  {
   "cell_type": "code",
   "source": "df['CONDHERIDO'].value_counts().sort_values(ascending=False)",
   "metadata": {
    "cell_id": "4b9ae3ea500b40e0a23f4f5476b44b94",
    "tags": [],
    "deepnote_to_be_reexecuted": false,
    "source_hash": "f81ca2c4",
    "execution_start": 1648314957491,
    "execution_millis": 62,
    "deepnote_cell_type": "code",
    "deepnote_cell_height": 214.1875,
    "deepnote_output_heights": [
     117.1875
    ]
   },
   "outputs": [
    {
     "output_type": "execute_result",
     "execution_count": 73,
     "data": {
      "text/plain": "0    338735\n1     37248\n2      2725\n3        93\n4        13\nName: CONDHERIDO, dtype: int64"
     },
     "metadata": {}
    }
   ],
   "execution_count": null
  },
  {
   "cell_type": "code",
   "source": "plt.hist(df['CONDHERIDO'])\nplt.show()",
   "metadata": {
    "cell_id": "23d2bbd81db04a2bb8433c7ecea803e9",
    "tags": [],
    "deepnote_to_be_reexecuted": false,
    "source_hash": "6d063d18",
    "execution_start": 1648314969850,
    "execution_millis": 620,
    "deepnote_cell_type": "code",
    "deepnote_cell_height": 366,
    "deepnote_output_heights": [
     251
    ]
   },
   "outputs": [
    {
     "data": {
      "text/plain": "<Figure size 432x288 with 1 Axes>",
      "image/png": "[encoded data removed]"
     },
     "metadata": {
      "needs_background": "light",
      "image/png": {
       "width": 393,
       "height": 249
      }
     },
     "output_type": "display_data"
    }
   ],
   "execution_count": null
  },
  {
   "cell_type": "markdown",
   "source": "- La mayoría de accidentes no tienen heridos",
   "metadata": {
    "cell_id": "70ba05405f7c4b4fa4e4f8a3707755bf",
    "tags": [],
    "deepnote_to_be_reexecuted": false,
    "source_hash": "b2ebe9f0",
    "execution_start": 1648315030873,
    "execution_millis": 5,
    "deepnote_cell_type": "markdown",
    "deepnote_cell_height": 69.390625
   },
   "outputs": [],
   "execution_count": 75
  },
  {
   "cell_type": "code",
   "source": "df['CONDMUERTO'].value_counts().sort_values(ascending=False)",
   "metadata": {
    "cell_id": "198064a4434245e6bcf041dcf0b99580",
    "tags": [],
    "deepnote_to_be_reexecuted": false,
    "source_hash": "2d1d4635",
    "execution_start": 1648315110184,
    "execution_millis": 20,
    "deepnote_cell_type": "code",
    "deepnote_cell_height": 195,
    "deepnote_output_heights": [
     98
    ]
   },
   "outputs": [
    {
     "output_type": "execute_result",
     "execution_count": 77,
     "data": {
      "text/plain": "0    376829\n1      1949\n2        34\n3         2\nName: CONDMUERTO, dtype: int64"
     },
     "metadata": {}
    }
   ],
   "execution_count": null
  },
  {
   "cell_type": "code",
   "source": "x = df['CONDMUERTO'].value_counts().sort_values(ascending=False).index\ny = df['CONDMUERTO'].value_counts().sort_values(ascending=False).values",
   "metadata": {
    "cell_id": "d6dcc97f36264c2680df6bca167b6025",
    "tags": [],
    "deepnote_to_be_reexecuted": false,
    "source_hash": "ecdb5f49",
    "execution_start": 1648315202437,
    "execution_millis": 7,
    "deepnote_cell_type": "code",
    "deepnote_cell_height": 99
   },
   "outputs": [],
   "execution_count": null
  },
  {
   "cell_type": "code",
   "source": "plt.bar(x,y)\nplt.show()",
   "metadata": {
    "cell_id": "c5f697e017ab45f3a5d7e9e2920deebe",
    "tags": [],
    "deepnote_to_be_reexecuted": false,
    "source_hash": "7dfb399d",
    "execution_start": 1648315211938,
    "execution_millis": 363,
    "deepnote_cell_type": "code",
    "deepnote_cell_height": 365,
    "deepnote_output_heights": [
     250
    ]
   },
   "outputs": [
    {
     "data": {
      "text/plain": "<Figure size 432x288 with 1 Axes>",
      "image/png": "[encoded data removed]"
     },
     "metadata": {
      "needs_background": "light",
      "image/png": {
       "width": 394,
       "height": 248
      }
     },
     "output_type": "display_data"
    }
   ],
   "execution_count": null
  },
  {
   "cell_type": "code",
   "source": "plt.hist(df['CONDMUERTO'])\nplt.show()",
   "metadata": {
    "cell_id": "39efc9050e114c49860fb3f3b502f592",
    "tags": [],
    "deepnote_to_be_reexecuted": false,
    "source_hash": "c7cb5623",
    "execution_start": 1648315179069,
    "execution_millis": 242,
    "deepnote_cell_type": "code",
    "deepnote_cell_height": 365,
    "deepnote_output_heights": [
     250,
     250
    ]
   },
   "outputs": [
    {
     "data": {
      "text/plain": "<Figure size 432x288 with 1 Axes>",
      "image/png": "[encoded data removed]"
     },
     "metadata": {
      "needs_background": "light",
      "image/png": {
       "width": 393,
       "height": 248
      }
     },
     "output_type": "display_data"
    }
   ],
   "execution_count": null
  },
  {
   "cell_type": "markdown",
   "source": "- La mayoría de accidentes no tien muertos solo 1,949 accidentes tienen 1 muerto",
   "metadata": {
    "cell_id": "eaf32d128ba7475d885b6b198dd177ed",
    "tags": [],
    "deepnote_cell_type": "markdown",
    "deepnote_cell_height": 69.390625
   },
   "outputs": [],
   "execution_count": null
  },
  {
   "cell_type": "code",
   "source": "df['CLASACC'].value_counts().sort_values(ascending=False)",
   "metadata": {
    "cell_id": "85b6414319274b54995de629f5a3287a",
    "tags": [],
    "deepnote_to_be_reexecuted": false,
    "source_hash": "5cbbae5e",
    "execution_start": 1648315331237,
    "execution_millis": 29,
    "deepnote_cell_type": "code",
    "deepnote_cell_height": 195,
    "deepnote_output_heights": [
     98
    ]
   },
   "outputs": [
    {
     "output_type": "execute_result",
     "execution_count": 84,
     "data": {
      "text/plain": "Sólo daños          293894\nNo fatal             65183\nCertificado cero     16085\nFatal                 3652\nName: CLASACC, dtype: int64"
     },
     "metadata": {}
    }
   ],
   "execution_count": null
  },
  {
   "cell_type": "code",
   "source": "x = df['CLASACC'].value_counts().sort_values(ascending=False).index\ny = df['CLASACC'].value_counts().sort_values(ascending=False).values",
   "metadata": {
    "cell_id": "469ebaa8de024a5a819177d84153de77",
    "tags": [],
    "deepnote_to_be_reexecuted": false,
    "source_hash": "766517e",
    "execution_start": 1648315489499,
    "execution_millis": 90,
    "deepnote_cell_type": "code",
    "deepnote_cell_height": 99
   },
   "outputs": [],
   "execution_count": null
  },
  {
   "cell_type": "code",
   "source": "plt.bar(x, y)\nplt.show()",
   "metadata": {
    "cell_id": "70cd2f81094b4659b0de20b40d62447a",
    "tags": [],
    "deepnote_to_be_reexecuted": false,
    "source_hash": "d9e7b6ee",
    "execution_start": 1648315497571,
    "execution_millis": 455,
    "deepnote_cell_type": "code",
    "deepnote_cell_height": 365,
    "deepnote_output_heights": [
     250
    ]
   },
   "outputs": [
    {
     "data": {
      "text/plain": "<Figure size 432x288 with 1 Axes>",
      "image/png": "[encoded data removed]"
     },
     "metadata": {
      "needs_background": "light",
      "image/png": {
       "width": 393,
       "height": 248
      }
     },
     "output_type": "display_data"
    }
   ],
   "execution_count": null
  },
  {
   "cell_type": "markdown",
   "source": "- La mayoría solo tuvo daños!",
   "metadata": {
    "cell_id": "42cfca531420495db7cdd377888fd386",
    "tags": [],
    "deepnote_cell_type": "markdown",
    "deepnote_cell_height": 69.390625
   },
   "outputs": [],
   "execution_count": null
  },
  {
   "cell_type": "code",
   "source": "df['edad'].value_counts().sort_values(ascending=False)",
   "metadata": {
    "cell_id": "ce6c365aa4214ff1a7d2563526715b71",
    "tags": [],
    "deepnote_to_be_reexecuted": false,
    "source_hash": "f1527674",
    "execution_start": 1648315630455,
    "execution_millis": 14,
    "deepnote_cell_type": "code",
    "deepnote_cell_height": 329.375,
    "deepnote_output_heights": [
     232.390625
    ]
   },
   "outputs": [
    {
     "output_type": "execute_result",
     "execution_count": 89,
     "data": {
      "text/plain": "0     90626\n30     9529\n25     9512\n28     9463\n20     9016\n      ...  \n92        7\n93        6\n98        2\n94        1\n96        1\nName: edad, Length: 87, dtype: int64"
     },
     "metadata": {}
    }
   ],
   "execution_count": null
  },
  {
   "cell_type": "code",
   "source": "x = df['edad'].value_counts().sort_values(ascending=False).index\ny = df['edad'].value_counts().sort_values(ascending=False).values",
   "metadata": {
    "cell_id": "c159ec1abfd848ffa15ea5aa39ef087a",
    "tags": [],
    "deepnote_to_be_reexecuted": false,
    "source_hash": "70ede51b",
    "execution_start": 1648315644697,
    "execution_millis": 0,
    "deepnote_cell_type": "code",
    "deepnote_cell_height": 99
   },
   "outputs": [],
   "execution_count": null
  },
  {
   "cell_type": "code",
   "source": "plt.bar(x[:10], y[:10])\nplt.show()",
   "metadata": {
    "cell_id": "4806122cc4b04dbbb95340611ca41c9b",
    "tags": [],
    "deepnote_to_be_reexecuted": false,
    "source_hash": "38893eb3",
    "execution_start": 1648315679908,
    "execution_millis": 254,
    "deepnote_cell_type": "code",
    "deepnote_cell_height": 365,
    "deepnote_output_heights": [
     250
    ]
   },
   "outputs": [
    {
     "data": {
      "text/plain": "<Figure size 432x288 with 1 Axes>",
      "image/png": "[encoded data removed]"
     },
     "metadata": {
      "needs_background": "light",
      "image/png": {
       "width": 387,
       "height": 248
      }
     },
     "output_type": "display_data"
    }
   ],
   "execution_count": null
  },
  {
   "cell_type": "markdown",
   "source": "- Se desconoce la edad de la mayoría",
   "metadata": {
    "cell_id": "85fe4a1b578440639320cc3cd3c8ef00",
    "tags": [],
    "deepnote_cell_type": "markdown",
    "deepnote_cell_height": 69.390625
   },
   "outputs": [],
   "execution_count": null
  },
  {
   "cell_type": "markdown",
   "source": "- Pero el segundo valor con más frecuencia es 30 años",
   "metadata": {
    "cell_id": "0c44e125c6e64f2ab3220f9fe1ab0444",
    "tags": [],
    "deepnote_cell_type": "markdown",
    "deepnote_cell_height": 69.390625
   }
  },
  {
   "cell_type": "code",
   "source": "df['edad'].describe()",
   "metadata": {
    "cell_id": "84997204c97c4a4da696bfc0eb073923",
    "tags": [],
    "deepnote_to_be_reexecuted": false,
    "source_hash": "1bb3f8f9",
    "execution_start": 1648315765967,
    "execution_millis": 92,
    "deepnote_cell_type": "code",
    "deepnote_cell_height": 271.78125,
    "deepnote_output_heights": [
     174.796875
    ]
   },
   "outputs": [
    {
     "output_type": "execute_result",
     "execution_count": 94,
     "data": {
      "text/plain": "count    378814.000000\nmean         28.135837\nstd          19.806641\nmin           0.000000\n25%          17.000000\n50%          29.000000\n75%          42.000000\nmax          98.000000\nName: edad, dtype: float64"
     },
     "metadata": {}
    }
   ],
   "execution_count": null
  },
  {
   "cell_type": "markdown",
   "source": "- El promedio y la media nos dicen que es cercano a 28 o 29 años!",
   "metadata": {
    "cell_id": "eaef8b028e8b41939b89fcbbb1630874",
    "tags": [],
    "deepnote_cell_type": "markdown",
    "deepnote_cell_height": 69.390625
   },
   "outputs": [],
   "execution_count": null
  },
  {
   "cell_type": "markdown",
   "source": "<a style='text-decoration:none;line-height:16px;display:flex;color:#5B5B62;padding:10px;justify-content:end;' href='https://deepnote.com?utm_source=created-in-deepnote-cell&projectId=898a5ecc-b0f0-4499-bf8c-c9746a43a293' target=\"_blank\">\n<img alt='Created in deepnote.com' style='display:inline;max-height:16px;margin:0px;margin-right:7.5px;' src='data:image/svg+xml;base64,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' > </img>\nCreated in <span style='font-weight:600;margin-left:4px;'>Deepnote</span></a>",
   "metadata": {
    "tags": [],
    "created_in_deepnote_cell": true,
    "deepnote_cell_type": "markdown"
   }
  }
 ],
 "nbformat": 4,
 "nbformat_minor": 2,
 "metadata": {
  "orig_nbformat": 2,
  "deepnote": {
   "is_reactive": false
  },
  "deepnote_notebook_id": "b99e83ef-3bb1-4d8f-9140-2eccd904eed9",
  "deepnote_execution_queue": []
 }
}